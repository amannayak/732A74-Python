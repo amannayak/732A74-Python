{
  "nbformat": 4,
  "nbformat_minor": 0,
  "metadata": {
    "kernelspec": {
      "display_name": "Python 3",
      "language": "python",
      "name": "python3"
    },
    "language_info": {
      "codemirror_mode": {
        "name": "ipython",
        "version": 3
      },
      "file_extension": ".py",
      "mimetype": "text/x-python",
      "name": "python",
      "nbconvert_exporter": "python",
      "pygments_lexer": "ipython3",
      "version": "3.7.1"
    },
    "colab": {
      "name": "DNN_Lab.ipynb",
      "provenance": [],
      "collapsed_sections": [
        "B4FsMldmtAYI",
        "jnUfj87XtAYd",
        "MSpnNCjEtAap"
      ],
      "toc_visible": true,
      "machine_shape": "hm",
      "include_colab_link": true
    },
    "accelerator": "GPU"
  },
  "cells": [
    {
      "cell_type": "markdown",
      "metadata": {
        "id": "view-in-github",
        "colab_type": "text"
      },
      "source": [
        "<a href=\"https://colab.research.google.com/github/amannayak/732A74-Python/blob/master/DNN_Lab.ipynb\" target=\"_parent\"><img src=\"https://colab.research.google.com/assets/colab-badge.svg\" alt=\"Open In Colab\"/></a>"
      ]
    },
    {
      "cell_type": "markdown",
      "metadata": {
        "id": "r8CrCyT6tAW9",
        "colab_type": "text"
      },
      "source": [
        "# Deep Neural Networks Laboration\n",
        "\n",
        "Data used in this laboration are from the Kitsune Network Attack Dataset, https://archive.ics.uci.edu/ml/datasets/Kitsune+Network+Attack+Dataset . We will focus on the 'Mirai' part of the dataset. Your task is to make a DNN that can classify if each attack is benign or malicious. The dataset has 116 covariates, but to make it a bit more difficult we will remove the first 24 covariates.\n",
        "\n",
        "You need to answer all questions in this notebook."
      ]
    },
    {
      "cell_type": "markdown",
      "metadata": {
        "id": "FELKNx_ftAW_",
        "colab_type": "text"
      },
      "source": [
        "# Part 1: Get the data\n",
        "\n",
        "Use `wget` in the terminal of your cloud machine (in the same directory as where you have saved this notebook) to download the data, i.e.\n",
        "\n",
        "wget https://archive.ics.uci.edu/ml/machine-learning-databases/00516/mirai/Mirai_dataset.csv.gz\n",
        "\n",
        "wget https://archive.ics.uci.edu/ml/machine-learning-databases/00516/mirai/Mirai_labels.csv.gz\n",
        "\n",
        "Then unpack the files using `gunzip` in the terminal, i.e.\n",
        "\n",
        "gunzip Mirai_dataset.csv.gz\n",
        "\n",
        "gunzip Mirai_labels.csv.gz"
      ]
    },
    {
      "cell_type": "code",
      "metadata": {
        "id": "uqm5JL_Nacfc",
        "colab_type": "code",
        "colab": {}
      },
      "source": [
        "#latest change 1.05 Tuesday\n",
        "!pip install -U -q PyDrive\n",
        "\n",
        "from pydrive.auth import GoogleAuth\n",
        "from pydrive.drive import GoogleDrive\n",
        "from google.colab import auth\n",
        "from oauth2client.client import GoogleCredentials\n",
        "\n",
        "# 1. Authenticate and create the PyDrive client.\n",
        "auth.authenticate_user()\n",
        "gauth = GoogleAuth()\n",
        "gauth.credentials = GoogleCredentials.get_application_default()\n",
        "drive = GoogleDrive(gauth)\n",
        "\n",
        "\n",
        "# 2. Load a file by ID and create local file.\n",
        "downloaded = drive.CreateFile({'id':'1896GbKGCJFbqTBJJN1g03s7ZS2Q5DPMf'}) # replace fileid with Id of file you want to access\n",
        "downloaded.GetContentFile('Mirai_dataset.csv') # now you can use export.csv "
      ],
      "execution_count": 0,
      "outputs": []
    },
    {
      "cell_type": "code",
      "metadata": {
        "id": "bfR_pIMNpXwy",
        "colab_type": "code",
        "colab": {}
      },
      "source": [
        "# 2..b. Load a file by ID and create local file.\n",
        "downloaded = drive.CreateFile({'id':'1zqwLJDjh6JX4x-lGKGSVEFcN5Y4wIHLj'}) # replace fileid with Id of file you want to access\n",
        "downloaded.GetContentFile('mirai_labels.csv') # now you can use export.csv \n",
        "\n"
      ],
      "execution_count": 0,
      "outputs": []
    },
    {
      "cell_type": "code",
      "metadata": {
        "id": "cjilUxmybADI",
        "colab_type": "code",
        "colab": {}
      },
      "source": [
        "#testimp = np.genfromtxt('Mirai_dataset.csv')"
      ],
      "execution_count": 0,
      "outputs": []
    },
    {
      "cell_type": "markdown",
      "metadata": {
        "id": "yrKo3VzFtAXA",
        "colab_type": "text"
      },
      "source": [
        "# Part 2: Get a graphics card\n",
        "\n",
        "Lets make sure that our script can see the graphics card that will be used. The graphics cards will perform all the time consuming calculations in every training iteration."
      ]
    },
    {
      "cell_type": "code",
      "metadata": {
        "id": "QefNazbYtAXD",
        "colab_type": "code",
        "colab": {}
      },
      "source": [
        "import os\n",
        "import warnings\n",
        "\n",
        "# Ignore FutureWarning from numpy\n",
        "warnings.simplefilter(action='ignore', category=FutureWarning)\n",
        "\n",
        "import keras.backend as K\n",
        "import tensorflow as tf\n",
        "\n",
        "os.environ[\"CUDA_DEVICE_ORDER\"]=\"PCI_BUS_ID\";\n",
        " \n",
        "# The GPU id to use, usually either \"0\" or \"1\";\n",
        "os.environ[\"CUDA_VISIBLE_DEVICES\"]=\"0\";\n",
        "\n",
        "# Allow growth of GPU memory, otherwise it will always look like all the memory is being used\n",
        "physical_devices = tf.config.experimental.list_physical_devices('GPU')\n",
        "\n",
        "#print(physical_devices)\n",
        "\n",
        "tf.config.experimental.set_memory_growth(physical_devices[0], True) "
      ],
      "execution_count": 0,
      "outputs": []
    },
    {
      "cell_type": "markdown",
      "metadata": {
        "id": "7KmSFXs5tAXI",
        "colab_type": "text"
      },
      "source": [
        "# Part 3: Hardware\n",
        "\n",
        "In deep learning, the computer hardware is very important. You should always know what kind of hardware you are working on.\n",
        "\n",
        "Question 1: What graphics card is available in the cloud machine? Run 'nvidia-smi' in the terminal. \n",
        "\n",
        "Performed on Google Colab\n",
        "\n",
        "Question 2: Google the name of the graphics card, how many CUDA cores does it have?\n",
        "Graphic Card Name : Tesla K80 GPU with 4992 CUDA cores\n",
        "\n",
        "Question 3: How much memory does the graphics card have?\n",
        "24 GB DDR5 \n",
        "\n",
        "Question 4: What is stored in the GPU memory while training a DNN ?\n",
        "Matrix operations are stored in GPU memory \n",
        "\n",
        "Question 5: What CPU is available in the cloud machine? How many cores does it have? Run 'lscpu' in the terminal.\n",
        "\n",
        "CPU : Intel(R) Xeon(R) CPU @ 2.00GHz\n",
        "Core : 1 \n",
        "\n",
        "\n",
        "Question 6: How much CPU memory (RAM) is available in the cloud machine? Run 'free -g' in the terminal.\n",
        "\n",
        "10 GB\n"
      ]
    },
    {
      "cell_type": "markdown",
      "metadata": {
        "id": "90udr2RRtAXJ",
        "colab_type": "text"
      },
      "source": [
        "# Part 4: Load the data\n",
        "\n",
        "Load the dataset from the csv files, it will take some time since it is almost 1.4 GB. \n",
        "\n",
        "We will use the function `genfromtxt` to load the data.\n",
        "\n",
        "https://docs.scipy.org/doc/numpy/reference/generated/numpy.genfromtxt.html\n",
        "\n",
        "Load the data from csv files the first time, then save the data as numpy files for faster loading the next time.\n",
        "\n",
        "\n"
      ]
    },
    {
      "cell_type": "code",
      "metadata": {
        "id": "wjbtfBZHtAXK",
        "colab_type": "code",
        "colab": {}
      },
      "source": [
        "from numpy import genfromtxt\n",
        "import numpy as np\n",
        "\n",
        "# Load data from file\n",
        "# X = covariates, Y = labels\n",
        "X = np.genfromtxt(fname = \"Mirai_dataset.csv\" , delimiter = \",\")\n",
        "Y = np.genfromtxt(\"mirai_labels.csv\", delimiter = \",\")\n",
        "\n",
        "# Save data as numpy arrays, for faster loading in future calls to this cell\n",
        "np.save('Mirai_data.npy', X)\n",
        "np.save('mirai_labels.npy', Y)\n",
        "\n",
        "# Load data from numpy arrays, for faster loading\n",
        "X = np.load('Mirai_data.npy')\n",
        "Y = np.load('mirai_labels.npy')\n",
        "   "
      ],
      "execution_count": 0,
      "outputs": []
    },
    {
      "cell_type": "code",
      "metadata": {
        "id": "6sV_2D9iJX0D",
        "colab_type": "code",
        "colab": {}
      },
      "source": [
        "# Load data from numpy arrays, for faster loading\n",
        "import numpy as np\n",
        "X = np.load('Mirai_data.npy')\n",
        "Y = np.load('mirai_labels.npy')"
      ],
      "execution_count": 0,
      "outputs": []
    },
    {
      "cell_type": "code",
      "metadata": {
        "id": "jPAfRm1XrudE",
        "colab_type": "code",
        "outputId": "b8d34cc5-64ae-45b1-a591-d0f008fb80af",
        "colab": {
          "base_uri": "https://localhost:8080/",
          "height": 34
        }
      },
      "source": [
        "X.shape"
      ],
      "execution_count": 6,
      "outputs": [
        {
          "output_type": "execute_result",
          "data": {
            "text/plain": [
              "(764137, 116)"
            ]
          },
          "metadata": {
            "tags": []
          },
          "execution_count": 6
        }
      ]
    },
    {
      "cell_type": "code",
      "metadata": {
        "id": "oArDpufgmKO3",
        "colab_type": "code",
        "outputId": "87ee4d59-f92d-4646-b2ff-26ec8555bfe7",
        "colab": {
          "base_uri": "https://localhost:8080/",
          "height": 51
        }
      },
      "source": [
        "# Remove the first 24 covariates\n",
        "\n",
        "X = X[ : ,24:]\n",
        "\n",
        "print('The covariates have size {}.'.format(X.shape))\n",
        "print('The labels have size {}.'.format(Y.shape))\n",
        "\n",
        "# Print the number of examples of each class\n",
        "\n",
        "#print(X[1:10,])"
      ],
      "execution_count": 12,
      "outputs": [
        {
          "output_type": "stream",
          "text": [
            "The covariates have size (764137, 92).\n",
            "The labels have size (764137,).\n"
          ],
          "name": "stdout"
        }
      ]
    },
    {
      "cell_type": "markdown",
      "metadata": {
        "id": "LKLDBuuDtAXR",
        "colab_type": "text"
      },
      "source": [
        "# Part 5: How good is a naive classifier?\n",
        "\n",
        "Question 7: Given the distribution of examples, how high classification performance can a naive classifier obtain? The naive classifier will assume that all examples belong to one class. Note: you do not need to make a naive classifier, this is a theoretical question, just to understand how good performance we can obtain by random chance."
      ]
    },
    {
      "cell_type": "code",
      "metadata": {
        "id": "sIphJiGMsfeA",
        "colab_type": "code",
        "colab": {}
      },
      "source": [
        "#X[X == \"nan\"]"
      ],
      "execution_count": 0,
      "outputs": []
    },
    {
      "cell_type": "code",
      "metadata": {
        "id": "Jj7vzHtwtAXS",
        "colab_type": "code",
        "outputId": "9792b70f-9853-448b-bc69-2177372fd9eb",
        "colab": {
          "base_uri": "https://localhost:8080/",
          "height": 51
        }
      },
      "source": [
        "# It is common to have NaNs in the data, lets check for it. Hint: np.isnan()\n",
        "nanCheckY = np.isnan(Y)\n",
        "nanCheckX = np.isnan(X)\n",
        "\n",
        "# Print the number of NaNs (not a number) in the labels\n",
        "print(f\"Total nan in labels {len(nanCheckY[nanCheckY == True])}\")\n",
        "\n",
        "# Print the number of NaNs in the covariates\n",
        "print(f\"Total nan in covariates {len(nanCheckX[nanCheckX == True])}\")\n"
      ],
      "execution_count": 13,
      "outputs": [
        {
          "output_type": "stream",
          "text": [
            "Total nan in labels 0\n",
            "Total nan in covariates 0\n"
          ],
          "name": "stdout"
        }
      ]
    },
    {
      "cell_type": "markdown",
      "metadata": {
        "id": "zO01YS4ktAXX",
        "colab_type": "text"
      },
      "source": [
        "# Part 6: Preprocessing\n",
        "\n",
        "Lets do some simple preprocessing"
      ]
    },
    {
      "cell_type": "code",
      "metadata": {
        "id": "o4bGI6uYtAXY",
        "colab_type": "code",
        "colab": {}
      },
      "source": [
        "# Convert covariates to floats\n",
        "X.astype(float)\n",
        "\n",
        "# Convert labels to ints\n",
        "Y.astype(int)\n",
        "\n",
        "# Remove mean of each covariate (column)\n",
        "XMean = np.mean(X , axis = 0)\n",
        "\n"
      ],
      "execution_count": 0,
      "outputs": []
    },
    {
      "cell_type": "code",
      "metadata": {
        "id": "s5NIaFG0lKN-",
        "colab_type": "code",
        "outputId": "511f8992-8711-4c46-fe99-8ac00f19a8b7",
        "colab": {
          "base_uri": "https://localhost:8080/",
          "height": 34
        }
      },
      "source": [
        "XMean[0]"
      ],
      "execution_count": 11,
      "outputs": [
        {
          "output_type": "execute_result",
          "data": {
            "text/plain": [
              "143.84970417901397"
            ]
          },
          "metadata": {
            "tags": []
          },
          "execution_count": 11
        }
      ]
    },
    {
      "cell_type": "code",
      "metadata": {
        "id": "66UndvpYeb4j",
        "colab_type": "code",
        "colab": {}
      },
      "source": [
        "for i in range(0, len(XMean)):\n",
        "  X[ : , i] = X[ : , i] - XMean[i]\n",
        "  \n",
        "# Divide each covariate (column) by its standard deviation\n",
        "\n",
        "Xstd = np.std(X , axis = 0)\n",
        "\n",
        "for i in range(0, len(Xstd)):\n",
        "  X[ : , i] = X[ : , i] / Xstd[i]\n",
        "\n",
        "# Check that mean is 0 and standard deviation is 1 for all covariates, by printing mean and std\n"
      ],
      "execution_count": 0,
      "outputs": []
    },
    {
      "cell_type": "code",
      "metadata": {
        "id": "tzXr9ORJecog",
        "colab_type": "code",
        "colab": {}
      },
      "source": [
        "newMean = np.abs(np.around(np.mean(X , axis=0) , decimals= 4))\n",
        "newSD = np.around(np.std(X , axis= 0 ) , decimals= 1)"
      ],
      "execution_count": 0,
      "outputs": []
    },
    {
      "cell_type": "code",
      "metadata": {
        "id": "33FyVokHXOQ6",
        "colab_type": "code",
        "outputId": "bf2a9a5d-0f63-4144-c59b-2d1b821ad6e3",
        "colab": {
          "base_uri": "https://localhost:8080/",
          "height": 85
        }
      },
      "source": [
        "newMean"
      ],
      "execution_count": 13,
      "outputs": [
        {
          "output_type": "execute_result",
          "data": {
            "text/plain": [
              "array([0., 0., 0., 0., 0., 0., 0., 0., 0., 0., 0., 0., 0., 0., 0., 0., 0.,\n",
              "       0., 0., 0., 0., 0., 0., 0., 0., 0., 0., 0., 0., 0., 0., 0., 0., 0.,\n",
              "       0., 0., 0., 0., 0., 0., 0., 0., 0., 0., 0., 0., 0., 0., 0., 0., 0.,\n",
              "       0., 0., 0., 0., 0., 0., 0., 0., 0., 0., 0., 0., 0., 0., 0., 0., 0.])"
            ]
          },
          "metadata": {
            "tags": []
          },
          "execution_count": 13
        }
      ]
    },
    {
      "cell_type": "code",
      "metadata": {
        "id": "qb1AIkDTnarH",
        "colab_type": "code",
        "outputId": "fbe87182-ba0e-489c-d524-dc2d6ab57826",
        "colab": {
          "base_uri": "https://localhost:8080/",
          "height": 85
        }
      },
      "source": [
        "newSD"
      ],
      "execution_count": 14,
      "outputs": [
        {
          "output_type": "execute_result",
          "data": {
            "text/plain": [
              "array([1., 1., 1., 1., 1., 1., 1., 1., 1., 1., 1., 1., 1., 1., 1., 1., 1.,\n",
              "       1., 1., 1., 1., 1., 1., 1., 1., 1., 1., 1., 1., 1., 1., 1., 1., 1.,\n",
              "       1., 1., 1., 1., 1., 1., 1., 1., 1., 1., 1., 1., 1., 1., 1., 1., 1.,\n",
              "       1., 1., 1., 1., 1., 1., 1., 1., 1., 1., 1., 1., 1., 1., 1., 1., 1.])"
            ]
          },
          "metadata": {
            "tags": []
          },
          "execution_count": 14
        }
      ]
    },
    {
      "cell_type": "code",
      "metadata": {
        "id": "Q6YxRFoYUevn",
        "colab_type": "code",
        "outputId": "2f9b6858-3b75-4bc6-cbe0-a5fe880a307e",
        "colab": {
          "base_uri": "https://localhost:8080/",
          "height": 34
        }
      },
      "source": [
        "X.shape"
      ],
      "execution_count": 15,
      "outputs": [
        {
          "output_type": "execute_result",
          "data": {
            "text/plain": [
              "(764137, 68)"
            ]
          },
          "metadata": {
            "tags": []
          },
          "execution_count": 15
        }
      ]
    },
    {
      "cell_type": "markdown",
      "metadata": {
        "id": "G6su6lxYtAXd",
        "colab_type": "text"
      },
      "source": [
        "# Part 7: Split the dataset\n",
        "\n",
        "Use the first 70% of the dataset for training, leave the other 30% for validation and test, call the variables\n",
        "\n",
        "Xtrain (70%)\n",
        "\n",
        "Xtemp  (30%)\n",
        "\n",
        "Ytrain (70%)\n",
        "\n",
        "Ytemp  (30%)\n"
      ]
    },
    {
      "cell_type": "code",
      "metadata": {
        "id": "fTFc7Q4BoP5_",
        "colab_type": "code",
        "colab": {}
      },
      "source": [
        "nTrain = round(X.shape[0] * .7)"
      ],
      "execution_count": 0,
      "outputs": []
    },
    {
      "cell_type": "code",
      "metadata": {
        "id": "W7botlI8odeJ",
        "colab_type": "code",
        "outputId": "3609f0c9-89bf-4505-ef26-c53d21fd155e",
        "colab": {
          "base_uri": "https://localhost:8080/",
          "height": 34
        }
      },
      "source": [
        "X.shape"
      ],
      "execution_count": 18,
      "outputs": [
        {
          "output_type": "execute_result",
          "data": {
            "text/plain": [
              "(764137, 92)"
            ]
          },
          "metadata": {
            "tags": []
          },
          "execution_count": 18
        }
      ]
    },
    {
      "cell_type": "code",
      "metadata": {
        "id": "eZnf-1jNtAXe",
        "colab_type": "code",
        "outputId": "4d1b335b-d1e9-426a-ed19-a3c3241e1d73",
        "colab": {
          "base_uri": "https://localhost:8080/",
          "height": 85
        }
      },
      "source": [
        "# Your code\n",
        "Xtrain = X[0:nTrain , :]\n",
        "Xtemp = X[(nTrain+1) : , :]\n",
        "\n",
        "Ytrain = Y[0:nTrain]\n",
        "Ytemp = Y[(nTrain+1) :]\n",
        "\n",
        "print('Xtrain has size {}.'.format(Xtrain.shape))\n",
        "print('Ytrain has size {}.'.format(Ytrain.shape))\n",
        "\n",
        "print('Xtemp has size {}.'.format(Xtemp.shape))\n",
        "print('Ytemp has size {}.'.format(Ytemp.shape))\n",
        "\n",
        "\n"
      ],
      "execution_count": 18,
      "outputs": [
        {
          "output_type": "stream",
          "text": [
            "Xtrain has size (534896, 68).\n",
            "Ytrain has size (534896,).\n",
            "Xtemp has size (229240, 68).\n",
            "Ytemp has size (229240,).\n"
          ],
          "name": "stdout"
        }
      ]
    },
    {
      "cell_type": "code",
      "metadata": {
        "id": "xY2AEethqCQM",
        "colab_type": "code",
        "outputId": "58b04600-fc8f-4174-9fde-6bf12a9bf5e3",
        "colab": {
          "base_uri": "https://localhost:8080/",
          "height": 233
        }
      },
      "source": [
        "# Print the number of examples of each class, for the training data and the remaining 30%\n",
        "print(Xtrain[0:1 , :])\n",
        "#print(Ytrain[0:1])\n",
        "\n",
        "print(\"test data\")\n",
        "print(Xtemp[0:1 , :])\n",
        "# print(Ytemp[0:3])\n",
        "\n",
        "print(\"diff\")\n",
        "print(Xtrain[0:1 , :] - Xtemp[0:1, :])"
      ],
      "execution_count": 19,
      "outputs": [
        {
          "output_type": "error",
          "ename": "NameError",
          "evalue": "ignored",
          "traceback": [
            "\u001b[0;31m---------------------------------------------------------------------------\u001b[0m",
            "\u001b[0;31mNameError\u001b[0m                                 Traceback (most recent call last)",
            "\u001b[0;32m<ipython-input-19-31de3c980e94>\u001b[0m in \u001b[0;36m<module>\u001b[0;34m()\u001b[0m\n\u001b[0;32m----> 1\u001b[0;31m \u001b[0mprint\u001b[0m\u001b[0;34m(\u001b[0m\u001b[0mXtrain\u001b[0m\u001b[0;34m[\u001b[0m\u001b[0;36m0\u001b[0m\u001b[0;34m:\u001b[0m\u001b[0;36m1\u001b[0m \u001b[0;34m,\u001b[0m \u001b[0;34m:\u001b[0m\u001b[0;34m]\u001b[0m\u001b[0;34m)\u001b[0m\u001b[0;34m\u001b[0m\u001b[0;34m\u001b[0m\u001b[0m\n\u001b[0m\u001b[1;32m      2\u001b[0m \u001b[0;31m#print(Ytrain[0:1])\u001b[0m\u001b[0;34m\u001b[0m\u001b[0;34m\u001b[0m\u001b[0;34m\u001b[0m\u001b[0m\n\u001b[1;32m      3\u001b[0m \u001b[0;34m\u001b[0m\u001b[0m\n\u001b[1;32m      4\u001b[0m \u001b[0mprint\u001b[0m\u001b[0;34m(\u001b[0m\u001b[0;34m\"test data\"\u001b[0m\u001b[0;34m)\u001b[0m\u001b[0;34m\u001b[0m\u001b[0;34m\u001b[0m\u001b[0m\n\u001b[1;32m      5\u001b[0m \u001b[0mprint\u001b[0m\u001b[0;34m(\u001b[0m\u001b[0mXtemp\u001b[0m\u001b[0;34m[\u001b[0m\u001b[0;36m0\u001b[0m\u001b[0;34m:\u001b[0m\u001b[0;36m1\u001b[0m \u001b[0;34m,\u001b[0m \u001b[0;34m:\u001b[0m\u001b[0;34m]\u001b[0m\u001b[0;34m)\u001b[0m\u001b[0;34m\u001b[0m\u001b[0;34m\u001b[0m\u001b[0m\n",
            "\u001b[0;31mNameError\u001b[0m: name 'Xtrain' is not defined"
          ]
        }
      ]
    },
    {
      "cell_type": "markdown",
      "metadata": {
        "id": "NQBCwVUEtAXj",
        "colab_type": "text"
      },
      "source": [
        "# Part 8: Number of examples per class\n",
        "\n",
        "Question 8: Can we use the dataset as it is? Why not?\n",
        "\n",
        "Lets randomly shuffle the data, to get some examples of each class in training data and in the remaining 30%. Use the function `shuffle` in scikit learn\n",
        "\n",
        "https://scikit-learn.org/stable/modules/generated/sklearn.utils.shuffle.html"
      ]
    },
    {
      "cell_type": "markdown",
      "metadata": {
        "id": "P6uDSDNzqxHT",
        "colab_type": "text"
      },
      "source": [
        "We can not use same data as training need to cover complete possible nature of data while unshuffled data might not be able to cover that. \n"
      ]
    },
    {
      "cell_type": "code",
      "metadata": {
        "id": "g-Y4c8gttAXk",
        "colab_type": "code",
        "outputId": "0dc9ee0b-4042-428f-a5ab-147bc13e9373",
        "colab": {
          "base_uri": "https://localhost:8080/",
          "height": 918
        }
      },
      "source": [
        "from sklearn.utils import shuffle\n",
        "\n",
        "# Randomly shuffle data, to get both classes in training and testing\n",
        "XShuffled , YShuffled = shuffle(X , Y , random_state = 0)\n",
        "\n",
        "# Divide the data into training and validation/test again\n",
        "Xtrain = XShuffled[0:nTrain , :]\n",
        "Xtemp = XShuffled[(nTrain+1) : , :]\n",
        "\n",
        "Ytrain = YShuffled[0:nTrain]\n",
        "Ytemp = YShuffled[(nTrain+1) :]\n",
        "\n",
        "print('Xtrain has size {}.'.format(Xtrain.shape))\n",
        "print('Ytrain has size {}.'.format(Ytrain.shape))\n",
        "\n",
        "print('Xtemp has size {}.'.format(Xtemp.shape))\n",
        "print('Ytemp has size {}.'.format(Ytemp.shape))\n",
        "\n",
        "# Print the number of examples of each class, for the training data and the remaining 30%\n",
        "\n",
        "print(Xtrain[0:1 , :])\n",
        "print(Ytrain[0:1])\n",
        "\n",
        "print(\"test data\")\n",
        "print(Xtemp[0:1 , :])\n",
        "print(Ytemp[0:1])\n",
        "\n"
      ],
      "execution_count": 20,
      "outputs": [
        {
          "output_type": "stream",
          "text": [
            "Xtrain has size (534896, 92).\n",
            "Ytrain has size (534896,).\n",
            "Xtemp has size (229240, 92).\n",
            "Ytemp has size (229240,).\n",
            "[[-8.77664822e-02  6.30481424e-01 -4.50531913e-01 -1.71454092e-01\n",
            "   7.14065482e-01 -4.60324659e-01 -2.13068153e-01 -2.16138179e-01\n",
            "  -3.23979539e-01 -1.81131783e-01 -4.00504624e-01 -2.19991906e-02\n",
            "  -2.32010868e-02 -4.72374129e-02 -2.96060509e-01 -3.25232006e-01\n",
            "  -2.09734584e-01 -4.01746566e-01 -2.72671940e-02 -3.22351108e-02\n",
            "  -7.36250544e-02 -2.54863387e-01 -3.28327853e-01 -2.56810826e-01\n",
            "  -4.05537676e-01 -4.07783408e-02 -6.46380722e-02 -1.25430254e-01\n",
            "   8.01237927e-02 -3.30051596e-01 -3.39951689e-01 -4.08619016e-01\n",
            "  -5.72305998e-02 -1.61069367e-01 -1.96777880e-01  2.56061475e-01\n",
            "  -3.28292426e-01 -3.43749328e-01 -4.07589072e-01 -5.02286258e-02\n",
            "  -2.22689854e-01 -2.36792137e-01 -2.16138179e-01 -2.41812747e-02\n",
            "  -1.57962912e-02 -2.96060509e-01 -2.57839499e-02 -2.30898139e-02\n",
            "  -2.54863387e-01 -3.22489600e-02 -3.59076403e-02  8.01237927e-02\n",
            "  -5.32304384e-02 -7.53219640e-02  2.56061475e-01 -8.09065385e-02\n",
            "  -1.32542571e-01  6.32160473e-01 -3.23445230e-01 -7.53364830e-02\n",
            "  -3.78788372e-01 -3.77607723e-02 -1.65826958e-05  8.04955626e-03\n",
            "   5.51331011e-01 -3.23534630e-01 -7.65737068e-02 -3.78762425e-01\n",
            "  -3.88359626e-02 -3.84093824e-04  6.84275309e-03  5.56662367e-01\n",
            "  -3.23624391e-01 -9.22039462e-02 -3.78603841e-01 -4.27065377e-02\n",
            "  -1.35941117e-03  4.63966396e-03  6.61210427e-01 -3.23888577e-01\n",
            "  -1.08249511e-01 -3.77201558e-01 -5.92174778e-02  7.48851020e-04\n",
            "   6.67040537e-03  7.41869780e-01 -3.22200235e-01 -1.12232153e-01\n",
            "  -3.75595335e-01 -5.89723051e-02 -7.34254337e-03 -9.80573220e-03]]\n",
            "[1.]\n",
            "test data\n",
            "[[-8.74780730e-02  6.00755757e-01 -4.50510681e-01 -1.71506711e-01\n",
            "   6.99864880e-01 -4.60836598e-01 -2.13643709e-01 -1.49959172e-01\n",
            "  -3.23979539e-01 -1.81131893e-01 -4.00504624e-01 -2.19991906e-02\n",
            "  -2.32010868e-02 -4.72374129e-02 -1.37419437e-01 -3.25232006e-01\n",
            "  -2.09734355e-01 -4.01746566e-01 -2.72671940e-02 -3.22351108e-02\n",
            "  -7.36250544e-02 -4.56991399e-02 -3.28327853e-01 -2.56811085e-01\n",
            "  -4.05537676e-01 -4.07783408e-02 -6.46380722e-02 -1.25430254e-01\n",
            "   1.72818370e-01 -3.30051596e-01 -3.39951689e-01 -4.08619016e-01\n",
            "  -5.72305998e-02 -1.61069367e-01 -1.96777880e-01  2.47484004e-01\n",
            "  -3.28292426e-01 -3.43749271e-01 -4.07589072e-01 -5.02286258e-02\n",
            "  -2.22689854e-01 -2.36792137e-01 -1.49959172e-01 -2.41812842e-02\n",
            "  -1.57962912e-02 -1.37419437e-01 -2.57839580e-02 -2.30898139e-02\n",
            "  -4.56991399e-02 -3.22489634e-02 -3.59076403e-02  1.72818370e-01\n",
            "  -5.32304391e-02 -7.53219640e-02  2.47484004e-01 -8.02994994e-02\n",
            "  -1.31029969e-01  4.18926364e-01 -3.23445230e-01 -7.53357283e-02\n",
            "  -3.78788372e-01 -3.77607723e-02 -1.65826958e-05  8.04955626e-03\n",
            "   3.78466832e-01 -3.23534630e-01 -7.65733322e-02 -3.78762425e-01\n",
            "  -3.88359626e-02 -3.84093824e-04  6.84275309e-03  4.52015707e-01\n",
            "  -3.23624391e-01 -9.22052488e-02 -3.78603841e-01 -4.27065377e-02\n",
            "  -1.35941117e-03  4.63966396e-03  6.30510087e-01 -3.23888577e-01\n",
            "  -1.08249686e-01 -3.77201558e-01 -5.92174778e-02  7.48851020e-04\n",
            "   6.67040537e-03  7.27598586e-01 -3.22200235e-01 -1.12232292e-01\n",
            "  -3.75595335e-01 -5.89723051e-02 -7.34254337e-03 -9.80573220e-03]]\n",
            "[1.]\n"
          ],
          "name": "stdout"
        }
      ]
    },
    {
      "cell_type": "markdown",
      "metadata": {
        "id": "QS5O3Vu3tAXo",
        "colab_type": "text"
      },
      "source": [
        "#  Part 9: Split non-training data data into validation and test\n",
        "Split your non-training data (Xtemp, Ytemp) into 50% validation (Xval, Yval) and 50% testing (Xtest, Ytest), we use a function from scikit learn. \n",
        "\n",
        "https://scikit-learn.org/stable/modules/generated/sklearn.model_selection.train_test_split.html\n"
      ]
    },
    {
      "cell_type": "code",
      "metadata": {
        "id": "gLVArlT_tAXp",
        "colab_type": "code",
        "outputId": "df05ee4f-057e-45b0-8c6a-e65aecfa1c9d",
        "colab": {
          "base_uri": "https://localhost:8080/",
          "height": 34
        }
      },
      "source": [
        "from sklearn.model_selection import train_test_split\n",
        "\n",
        "Xval , Xtest , Yval , Ytest  = train_test_split(Xtemp , Ytemp , test_size = .5 , random_state = 42)\n",
        "\n",
        "\n",
        "print('The validation and test data have size {}, {}, {} and {}'.format(Xval.shape, Xtest.shape, Yval.shape, Ytest.shape))"
      ],
      "execution_count": 21,
      "outputs": [
        {
          "output_type": "stream",
          "text": [
            "The validation and test data have size (114620, 92), (114620, 92), (114620,) and (114620,)\n"
          ],
          "name": "stdout"
        }
      ]
    },
    {
      "cell_type": "markdown",
      "metadata": {
        "id": "3SQ0ABnhtAXu",
        "colab_type": "text"
      },
      "source": [
        "# Part 10: DNN classification\n",
        "\n",
        "Finish this code to create a first version of the classifier using a DNN. Start with a simple network with 2 dense layers (with 20 nodes each), using sigmoid activation functions. The final dense layer should have a single node and a sigmoid activation function. We start with the SGD optimizer.\n",
        "\n",
        "Relevant functions are\n",
        "\n",
        "`model.add()`, adds a layer to the network\n",
        "\n",
        "`Dense()`, a dense network layer\n",
        "\n",
        "`model.compile()`, compile the model, add \" metrics=['accuracy'] \" to print the classification accuracy during the training\n",
        "\n",
        "`model.fit()`, train the model with some training data\n",
        "\n",
        "`model.evaluate()`, apply the trained model to some test data\n",
        "\n",
        "See https://keras.io/layers/core/ for information on how the `Dense()` function works\n",
        "\n",
        "Import a relevant cost / loss function for binary classification from keras.losses (https://keras.io/losses/)\n",
        "\n",
        "See https://keras.io/models/model/ for how to compile, train and evaluate the model"
      ]
    },
    {
      "cell_type": "code",
      "metadata": {
        "id": "aJhr3DmPSPKG",
        "colab_type": "code",
        "colab": {
          "base_uri": "https://localhost:8080/",
          "height": 34
        },
        "outputId": "a7d8fca5-eb33-4d5c-9c4d-06d11a3ef43d"
      },
      "source": [
        "#"
      ],
      "execution_count": 42,
      "outputs": [
        {
          "output_type": "stream",
          "text": [
            "2.3.1\n"
          ],
          "name": "stdout"
        }
      ]
    },
    {
      "cell_type": "code",
      "metadata": {
        "id": "_HL3nHgttAXv",
        "colab_type": "code",
        "colab": {}
      },
      "source": [
        "#from tensorflow import keras\n",
        "from keras.models import Sequential, Model\n",
        "from keras.layers import Input, Dense\n",
        "from keras.optimizers import SGD,Adam\n",
        "from keras.losses import binary_crossentropy\n",
        "from keras.layers import BatchNormalization\n",
        "from keras.layers import Dropout\n",
        "#from tensorflow.keras.models import Sequential \n",
        "\n",
        "# Set seed from random number generator, for better comparisons\n",
        "from numpy.random import seed\n",
        "seed(123)\n",
        "def build_DNN(input_shape, n_layers, n_nodes, act_fun='sigmoid', optimizer='sgd', learning_rate=0.01, use_bn=False, use_dropout=False, use_custom_dropout=False , dRate = 0):\n",
        "    \n",
        "    # Setup optimizer, depending on input parameter string\n",
        "    if optimizer == \"sgd\":\n",
        "      optimized = SGD(lr=learning_rate)\n",
        "    elif optimizer == 'Adam':\n",
        "      optimized = Adam(lr=learning_rate,beta_1=0.9,beta_2=0.999,amsgrad=False)\n",
        "    \n",
        "\n",
        "    # Setup a sequential model\n",
        "    #model = tf.keras.Sequential()\n",
        "    model = Sequential()\n",
        "    # Add layers to the model, using the input parameters of the build_DNN function\n",
        "    model.add(Dense(n_nodes,kernel_initializer='uniform',input_shape=(input_shape[1],),activation=act_fun))\n",
        "    if use_dropout == True:\n",
        "      model.add(Dropout(rate = dRate))\n",
        "    if use_bn == True:\n",
        "      BatchNormalization(axis=1, momentum=0.99, epsilon=0.001, center=True, scale=True, beta_initializer='zeros', gamma_initializer='ones', moving_mean_initializer='zeros', moving_variance_initializer='ones', beta_regularizer=None, gamma_regularizer=None, beta_constraint=None, gamma_constraint=None)\n",
        "    if use_custom_dropout == True:\n",
        "      model.add(myDropout(dRate))\n",
        "    # Add first layer, requires input shape\n",
        "    \n",
        "    # Add remaining layers, do not require input shape\n",
        "    for i in range(n_layers-1):\n",
        "        model.add(Dense(n_nodes,kernel_initializer='uniform',activation=act_fun))           \n",
        "        if use_bn == True:\n",
        "          BatchNormalization(axis=1, momentum=0.99, epsilon=0.001, center=True, scale=True, beta_initializer='zeros', gamma_initializer='ones', moving_mean_initializer='zeros', moving_variance_initializer='ones', beta_regularizer=None, gamma_regularizer=None, beta_constraint=None, gamma_constraint=None)\n",
        "        if use_dropout == True:\n",
        "          model.add(Dropout(rate = dRate))\n",
        "        if use_custom_dropout == True:\n",
        "          model.add(myDropout(dRate))      \n",
        "\n",
        "    # Final layer\n",
        "    model.add(Dense(1,activation=act_fun))\n",
        "\n",
        "    \n",
        "    # Compile model\n",
        "    model.compile(optimizer=optimized,loss= \"binary_crossentropy\",metrics=['accuracy'])\n",
        "    \n",
        "    return model"
      ],
      "execution_count": 0,
      "outputs": []
    },
    {
      "cell_type": "code",
      "metadata": {
        "id": "Ax7v7aQetAXz",
        "colab_type": "code",
        "colab": {}
      },
      "source": [
        "# Lets define a help function for plotting the training results\n",
        "\n",
        "# IMPORTANT NOTE\n",
        "# The history unfortunately behaves a bit randomly for every user\n",
        "# If the plots for accuracy and loss look mixed, change the order of\n",
        "# val_loss, val_acc, loss, acc\n",
        "# until the plots look as they \"should\"\n",
        "\n",
        "import matplotlib.pyplot as plt\n",
        "def plot_results(history):\n",
        "    val_loss, val_acc, loss, acc = history.history.values()\n",
        "\n",
        "    plt.figure(figsize=(10,4))\n",
        "    plt.xlabel('Epochs')\n",
        "    plt.ylabel('Loss')\n",
        "    plt.plot(loss)\n",
        "    plt.plot(val_loss)\n",
        "    plt.legend(['Training','Validation'])\n",
        "\n",
        "    plt.figure(figsize=(10,4))\n",
        "    plt.xlabel('Epochs')\n",
        "    plt.ylabel('Accuracy')\n",
        "    plt.plot(acc)\n",
        "    plt.plot(val_acc)\n",
        "    plt.legend(['Training','Validation'])\n",
        "\n",
        "    plt.show()"
      ],
      "execution_count": 0,
      "outputs": []
    },
    {
      "cell_type": "markdown",
      "metadata": {
        "id": "FPh4D0-btAX6",
        "colab_type": "text"
      },
      "source": [
        "# Part 11: Train the DNN\n",
        "\n",
        "Time to train the DNN, we start simple with 2 layers with 2 nodes each, learning rate 0.1."
      ]
    },
    {
      "cell_type": "markdown",
      "metadata": {
        "id": "GjOQa9GGtAX7",
        "colab_type": "text"
      },
      "source": [
        "### 2 layers, 20 nodes"
      ]
    },
    {
      "cell_type": "code",
      "metadata": {
        "scrolled": true,
        "id": "VNpdqhittAX9",
        "colab_type": "code",
        "outputId": "6dd4b7d3-707b-4ba3-fb2b-785189cfde4d",
        "colab": {
          "base_uri": "https://localhost:8080/",
          "height": 714
        }
      },
      "source": [
        "# Setup some training parameters\n",
        "batch_size = 10000\n",
        "epochs = 20\n",
        "input_shape = Xtrain.shape\n",
        "\n",
        "# Build the model\n",
        "model1 = build_DNN(input_shape=input_shape,n_layers=2,n_nodes=20,act_fun='sigmoid',optimizer='sgd', learning_rate=0.1)\n",
        "\n",
        "# Train the model, provide training data and validation data\n",
        "history1 = model1.fit(Xtrain,Ytrain,epochs=epochs,validation_data=(Xval,Yval))"
      ],
      "execution_count": 24,
      "outputs": [
        {
          "output_type": "stream",
          "text": [
            "Train on 534896 samples, validate on 114620 samples\n",
            "Epoch 1/20\n",
            "534896/534896 [==============================] - 53s 100us/step - loss: 0.1619 - accuracy: 0.9142 - val_loss: 0.1483 - val_accuracy: 0.9207\n",
            "Epoch 2/20\n",
            "534896/534896 [==============================] - 51s 96us/step - loss: 0.1455 - accuracy: 0.9213 - val_loss: 0.1459 - val_accuracy: 0.9211\n",
            "Epoch 3/20\n",
            "534896/534896 [==============================] - 52s 98us/step - loss: 0.1411 - accuracy: 0.9242 - val_loss: 0.1389 - val_accuracy: 0.9264\n",
            "Epoch 4/20\n",
            "534896/534896 [==============================] - 53s 98us/step - loss: 0.1375 - accuracy: 0.9267 - val_loss: 0.1348 - val_accuracy: 0.9287\n",
            "Epoch 5/20\n",
            "534896/534896 [==============================] - 53s 99us/step - loss: 0.1335 - accuracy: 0.9293 - val_loss: 0.1356 - val_accuracy: 0.9242\n",
            "Epoch 6/20\n",
            "534896/534896 [==============================] - 53s 99us/step - loss: 0.1293 - accuracy: 0.9318 - val_loss: 0.1281 - val_accuracy: 0.9319\n",
            "Epoch 7/20\n",
            "534896/534896 [==============================] - 52s 97us/step - loss: 0.1261 - accuracy: 0.9331 - val_loss: 0.1271 - val_accuracy: 0.9336\n",
            "Epoch 8/20\n",
            "534896/534896 [==============================] - 52s 97us/step - loss: 0.1241 - accuracy: 0.9341 - val_loss: 0.1221 - val_accuracy: 0.9364\n",
            "Epoch 9/20\n",
            "534896/534896 [==============================] - 52s 97us/step - loss: 0.1227 - accuracy: 0.9348 - val_loss: 0.1259 - val_accuracy: 0.9344\n",
            "Epoch 10/20\n",
            "534896/534896 [==============================] - 52s 97us/step - loss: 0.1218 - accuracy: 0.9354 - val_loss: 0.1258 - val_accuracy: 0.9339\n",
            "Epoch 11/20\n",
            "534896/534896 [==============================] - 53s 99us/step - loss: 0.1204 - accuracy: 0.9357 - val_loss: 0.1200 - val_accuracy: 0.9362\n",
            "Epoch 12/20\n",
            "534896/534896 [==============================] - 52s 98us/step - loss: 0.1195 - accuracy: 0.9360 - val_loss: 0.1202 - val_accuracy: 0.9361\n",
            "Epoch 13/20\n",
            "534896/534896 [==============================] - 50s 94us/step - loss: 0.1189 - accuracy: 0.9365 - val_loss: 0.1214 - val_accuracy: 0.9343\n",
            "Epoch 14/20\n",
            "534896/534896 [==============================] - 50s 94us/step - loss: 0.1183 - accuracy: 0.9365 - val_loss: 0.1198 - val_accuracy: 0.9360\n",
            "Epoch 15/20\n",
            "534896/534896 [==============================] - 50s 94us/step - loss: 0.1179 - accuracy: 0.9368 - val_loss: 0.1285 - val_accuracy: 0.9336\n",
            "Epoch 16/20\n",
            "534896/534896 [==============================] - 50s 94us/step - loss: 0.1172 - accuracy: 0.9373 - val_loss: 0.1188 - val_accuracy: 0.9379\n",
            "Epoch 17/20\n",
            "534896/534896 [==============================] - 51s 95us/step - loss: 0.1170 - accuracy: 0.9373 - val_loss: 0.1164 - val_accuracy: 0.9376\n",
            "Epoch 18/20\n",
            "534896/534896 [==============================] - 51s 96us/step - loss: 0.1165 - accuracy: 0.9374 - val_loss: 0.1173 - val_accuracy: 0.9372\n",
            "Epoch 19/20\n",
            "534896/534896 [==============================] - 50s 94us/step - loss: 0.1162 - accuracy: 0.9378 - val_loss: 0.1154 - val_accuracy: 0.9390\n",
            "Epoch 20/20\n",
            "534896/534896 [==============================] - 50s 93us/step - loss: 0.1159 - accuracy: 0.9378 - val_loss: 0.1229 - val_accuracy: 0.9295\n"
          ],
          "name": "stdout"
        }
      ]
    },
    {
      "cell_type": "code",
      "metadata": {
        "id": "2ZfKgi9StAYC",
        "colab_type": "code",
        "outputId": "542d3233-c24d-49e3-e691-497944b9ba5e",
        "colab": {
          "base_uri": "https://localhost:8080/",
          "height": 68
        }
      },
      "source": [
        "# Evaluate the model on the test data\n",
        "#pred = model1.predict(Xtest)\n",
        "#score = \n",
        "score = model1.evaluate(Xtest , Ytest)\n",
        "print('Test loss: %.4f' % score[0])\n",
        "print('Test accuracy: %.4f' % score[1])"
      ],
      "execution_count": 25,
      "outputs": [
        {
          "output_type": "stream",
          "text": [
            "114620/114620 [==============================] - 5s 46us/step\n",
            "Test loss: 0.1206\n",
            "Test accuracy: 0.9301\n"
          ],
          "name": "stdout"
        }
      ]
    },
    {
      "cell_type": "code",
      "metadata": {
        "id": "nTn8X9fZtAYF",
        "colab_type": "code",
        "colab": {
          "base_uri": "https://localhost:8080/",
          "height": 544
        },
        "outputId": "07ec2a08-aa47-483a-ab74-32ce09e911d6"
      },
      "source": [
        "## Plot the history from the training run\n",
        "plot_results(history1)"
      ],
      "execution_count": 27,
      "outputs": [
        {
          "output_type": "display_data",
          "data": {
            "image/png": "[encoded data removed]",
            "text/plain": [
              "<Figure size 720x288 with 1 Axes>"
            ]
          },
          "metadata": {
            "tags": [],
            "needs_background": "light"
          }
        },
        {
          "output_type": "display_data",
          "data": {
            "image/png": "[encoded data removed]",
            "text/plain": [
              "<Figure size 720x288 with 1 Axes>"
            ]
          },
          "metadata": {
            "tags": [],
            "needs_background": "light"
          }
        }
      ]
    },
    {
      "cell_type": "markdown",
      "metadata": {
        "id": "B4FsMldmtAYI",
        "colab_type": "text"
      },
      "source": [
        "# Part 12: More questions\n",
        "\n",
        "Question 9: What happens if you add several Dense layers without specifying the activation function?\n",
        "\n",
        "Question 10: How are the weights in each dense layer initialized as default? How are the bias weights initialized?\n"
      ]
    },
    {
      "cell_type": "markdown",
      "metadata": {
        "id": "KkPQCExctAYJ",
        "colab_type": "text"
      },
      "source": [
        "# Part 13: Balancing the classes\n",
        "\n",
        "This dataset is rather unbalanced, we need to define class weights so that the training pays more attention to the class with fewer samples. We use a function in scikit learn\n",
        "\n",
        "https://scikit-learn.org/stable/modules/generated/sklearn.utils.class_weight.compute_class_weight.html"
      ]
    },
    {
      "cell_type": "code",
      "metadata": {
        "id": "yzbhOdf_tAYK",
        "colab_type": "code",
        "outputId": "4e1fdae6-db43-46a0-e1df-ad987de57416",
        "colab": {
          "base_uri": "https://localhost:8080/",
          "height": 34
        }
      },
      "source": [
        "from sklearn.utils import class_weight\n",
        "\n",
        "# Calculate class weights\n",
        "classes = np.unique(Ytrain)\n",
        "weights = {classes[i]:class_weight.compute_class_weight('balanced',classes,Ytrain)[i] for i in range(0,len(classes))}\n",
        "# Print the class weights\n",
        "weights"
      ],
      "execution_count": 28,
      "outputs": [
        {
          "output_type": "execute_result",
          "data": {
            "text/plain": [
              "{0.0: 3.146076932125632, 1.0: 0.59447949035978}"
            ]
          },
          "metadata": {
            "tags": []
          },
          "execution_count": 28
        }
      ]
    },
    {
      "cell_type": "markdown",
      "metadata": {
        "id": "d544Sbi_tAYP",
        "colab_type": "text"
      },
      "source": [
        "### 2 layers, 20 nodes, class weights"
      ]
    },
    {
      "cell_type": "code",
      "metadata": {
        "scrolled": true,
        "id": "l-QxL6WUtAYQ",
        "colab_type": "code",
        "outputId": "252d59f1-b173-4016-aff1-f23db0d90396",
        "colab": {
          "base_uri": "https://localhost:8080/",
          "height": 714
        }
      },
      "source": [
        "# Setup some training parameters\n",
        "batch_size = 10000\n",
        "epochs = 20\n",
        "input_shape = Xtrain.shape\n",
        "\n",
        "# Build and train model\n",
        "model2 = build_DNN(input_shape=input_shape,n_layers=2,n_nodes=20,act_fun='sigmoid',optimizer='sgd',learning_rate=0.1)\n",
        "\n",
        "\n",
        "history2 = model2.fit(Xtrain,Ytrain,epochs=epochs,validation_data=(Xval,Yval),class_weight=weights)"
      ],
      "execution_count": 29,
      "outputs": [
        {
          "output_type": "stream",
          "text": [
            "Train on 534896 samples, validate on 114620 samples\n",
            "Epoch 1/20\n",
            "534896/534896 [==============================] - 51s 96us/step - loss: 0.1768 - accuracy: 0.9101 - val_loss: 0.2228 - val_accuracy: 0.9163\n",
            "Epoch 2/20\n",
            "534896/534896 [==============================] - 50s 93us/step - loss: 0.1597 - accuracy: 0.9175 - val_loss: 0.2010 - val_accuracy: 0.9172\n",
            "Epoch 3/20\n",
            "534896/534896 [==============================] - 50s 93us/step - loss: 0.1557 - accuracy: 0.9180 - val_loss: 0.2004 - val_accuracy: 0.9184\n",
            "Epoch 4/20\n",
            "534896/534896 [==============================] - 50s 93us/step - loss: 0.1512 - accuracy: 0.9195 - val_loss: 0.2020 - val_accuracy: 0.9196\n",
            "Epoch 5/20\n",
            "534896/534896 [==============================] - 49s 92us/step - loss: 0.1466 - accuracy: 0.9224 - val_loss: 0.1690 - val_accuracy: 0.9262\n",
            "Epoch 6/20\n",
            "534896/534896 [==============================] - 50s 94us/step - loss: 0.1428 - accuracy: 0.9257 - val_loss: 0.1844 - val_accuracy: 0.9277\n",
            "Epoch 7/20\n",
            "534896/534896 [==============================] - 52s 97us/step - loss: 0.1400 - accuracy: 0.9280 - val_loss: 0.1686 - val_accuracy: 0.9282\n",
            "Epoch 8/20\n",
            "534896/534896 [==============================] - 52s 97us/step - loss: 0.1381 - accuracy: 0.9292 - val_loss: 0.1852 - val_accuracy: 0.9288\n",
            "Epoch 9/20\n",
            "534896/534896 [==============================] - 51s 96us/step - loss: 0.1358 - accuracy: 0.9300 - val_loss: 0.1469 - val_accuracy: 0.9322\n",
            "Epoch 10/20\n",
            "534896/534896 [==============================] - 50s 94us/step - loss: 0.1344 - accuracy: 0.9308 - val_loss: 0.1648 - val_accuracy: 0.9315\n",
            "Epoch 11/20\n",
            "534896/534896 [==============================] - 51s 95us/step - loss: 0.1337 - accuracy: 0.9313 - val_loss: 0.1537 - val_accuracy: 0.9322\n",
            "Epoch 12/20\n",
            "534896/534896 [==============================] - 53s 99us/step - loss: 0.1322 - accuracy: 0.9321 - val_loss: 0.2025 - val_accuracy: 0.9254\n",
            "Epoch 13/20\n",
            "534896/534896 [==============================] - 53s 98us/step - loss: 0.1314 - accuracy: 0.9323 - val_loss: 0.1756 - val_accuracy: 0.9304\n",
            "Epoch 14/20\n",
            "534896/534896 [==============================] - 51s 96us/step - loss: 0.1306 - accuracy: 0.9327 - val_loss: 0.1822 - val_accuracy: 0.9307\n",
            "Epoch 15/20\n",
            "534896/534896 [==============================] - 52s 97us/step - loss: 0.1298 - accuracy: 0.9330 - val_loss: 0.1562 - val_accuracy: 0.9329\n",
            "Epoch 16/20\n",
            "534896/534896 [==============================] - 52s 97us/step - loss: 0.1292 - accuracy: 0.9332 - val_loss: 0.1449 - val_accuracy: 0.9338\n",
            "Epoch 17/20\n",
            "534896/534896 [==============================] - 53s 99us/step - loss: 0.1288 - accuracy: 0.9334 - val_loss: 0.1825 - val_accuracy: 0.9326\n",
            "Epoch 18/20\n",
            "534896/534896 [==============================] - 51s 95us/step - loss: 0.1283 - accuracy: 0.9337 - val_loss: 0.1439 - val_accuracy: 0.9341\n",
            "Epoch 19/20\n",
            "534896/534896 [==============================] - 52s 97us/step - loss: 0.1278 - accuracy: 0.9338 - val_loss: 0.1830 - val_accuracy: 0.9327\n",
            "Epoch 20/20\n",
            "534896/534896 [==============================] - 50s 94us/step - loss: 0.1275 - accuracy: 0.9341 - val_loss: 0.1528 - val_accuracy: 0.9343\n"
          ],
          "name": "stdout"
        }
      ]
    },
    {
      "cell_type": "code",
      "metadata": {
        "id": "iE3aHzdttAYV",
        "colab_type": "code",
        "outputId": "92792e2d-0695-4fcd-9035-277b04e687df",
        "colab": {
          "base_uri": "https://localhost:8080/",
          "height": 68
        }
      },
      "source": [
        "# Evaluate model on test data\n",
        "score = model2.evaluate(Xtest , Ytest)\n",
        "\n",
        "print('Test loss: %.4f' % score[0])\n",
        "print('Test accuracy: %.4f' % score[1])"
      ],
      "execution_count": 30,
      "outputs": [
        {
          "output_type": "stream",
          "text": [
            "114620/114620 [==============================] - 5s 47us/step\n",
            "Test loss: 0.1501\n",
            "Test accuracy: 0.9352\n"
          ],
          "name": "stdout"
        }
      ]
    },
    {
      "cell_type": "code",
      "metadata": {
        "id": "BRDyB_8_tAYY",
        "colab_type": "code",
        "outputId": "de14763a-06db-4b63-e21d-9493e760ebf7",
        "colab": {
          "base_uri": "https://localhost:8080/",
          "height": 548
        }
      },
      "source": [
        "plot_results(history2)"
      ],
      "execution_count": 34,
      "outputs": [
        {
          "output_type": "display_data",
          "data": {
            "image/png": "[encoded data removed]",
            "text/plain": [
              "<Figure size 720x288 with 1 Axes>"
            ]
          },
          "metadata": {
            "tags": [],
            "needs_background": "light"
          }
        },
        {
          "output_type": "display_data",
          "data": {
            "image/png": "[encoded data removed]",
            "text/plain": [
              "<Figure size 720x288 with 1 Axes>"
            ]
          },
          "metadata": {
            "tags": [],
            "needs_background": "light"
          }
        }
      ]
    },
    {
      "cell_type": "markdown",
      "metadata": {
        "id": "jnUfj87XtAYd",
        "colab_type": "text"
      },
      "source": [
        "# Part 14: More questions\n",
        "\n",
        "Question 11: Why do we have to use a batch size? Why can't we simply use all data at once? This is more relevant for even larger datasets.\n",
        "\n",
        "Question 12: How busy is the GPU for a batch size of 100? How much GPU memory is used? Hint: run 'nvidia-smi' on the cloud computer a few times during training.\n",
        "\n",
        "Question 13: What is the processing time for one training epoch when the batch size is 100? What is the processing time for one epoch when the batch size is 1,000? What is the processing time for one epoch when the batch size is 10,000? Explain the results. \n",
        "\n",
        "Question 14: How many times are the weights in the DNN updated in each training epoch if the batch size is 100? How many times are the weights in the DNN updated in each training epoch if the batch size is 1,000? How many times are the weights in the DNN updated in each training epoch if the batch size is 10,000?  \n",
        "\n",
        "Question 15: What limits how large the batch size can be?\n",
        "\n",
        "Question 16: Generally speaking, how is the learning rate related to the batch size? If the batch size is decreased, how should the learning rate be changed?\n",
        "\n",
        "Lets use a batch size of 10,000 from now on, and a learning rate of 0.1."
      ]
    },
    {
      "cell_type": "markdown",
      "metadata": {
        "id": "FD6_9Z-ktAYe",
        "colab_type": "text"
      },
      "source": [
        "# Part 15: Increasing the complexity\n",
        "\n",
        "Lets try some different configurations of number of layers and number of nodes per layer.\n",
        "\n",
        "Question 17: How many trainable parameters does the network with 4 dense layers with 50 nodes each have, compared to the initial network with 2 layers and 20 nodes per layer? Hint: use model.summary()"
      ]
    },
    {
      "cell_type": "markdown",
      "metadata": {
        "id": "uuJbOyYZtAYf",
        "colab_type": "text"
      },
      "source": [
        "### 4 layers, 20 nodes, class weights"
      ]
    },
    {
      "cell_type": "code",
      "metadata": {
        "scrolled": true,
        "id": "Ym-wW4G1tAYf",
        "colab_type": "code",
        "outputId": "49ae02cf-8b65-4e23-8836-b139500ebc23",
        "colab": {
          "base_uri": "https://localhost:8080/",
          "height": 1000
        }
      },
      "source": [
        "# Setup some training parameters\n",
        "batch_size = 10000\n",
        "epochs = 20\n",
        "input_shape =Xtrain.shape\n",
        "# Build and train model\n",
        "model3 = build_DNN(input_shape,4,20,'sigmoid','sgd',0.1)\n",
        "model3.summary()\n",
        "history3 = model3.fit(Xtrain,Ytrain,epochs=epochs,validation_data=(Xval,Yval),class_weight=weights)"
      ],
      "execution_count": 32,
      "outputs": [
        {
          "output_type": "stream",
          "text": [
            "Model: \"sequential_4\"\n",
            "_________________________________________________________________\n",
            "Layer (type)                 Output Shape              Param #   \n",
            "=================================================================\n",
            "dense_12 (Dense)             (None, 20)                1860      \n",
            "_________________________________________________________________\n",
            "dense_13 (Dense)             (None, 20)                420       \n",
            "_________________________________________________________________\n",
            "dense_14 (Dense)             (None, 20)                420       \n",
            "_________________________________________________________________\n",
            "dense_15 (Dense)             (None, 20)                420       \n",
            "_________________________________________________________________\n",
            "dense_16 (Dense)             (None, 1)                 21        \n",
            "=================================================================\n",
            "Total params: 3,141\n",
            "Trainable params: 3,141\n",
            "Non-trainable params: 0\n",
            "_________________________________________________________________\n",
            "Train on 534896 samples, validate on 114620 samples\n",
            "Epoch 1/20\n",
            "534896/534896 [==============================] - 57s 107us/step - loss: 0.6949 - accuracy: 0.4984 - val_loss: 0.7269 - val_accuracy: 0.1606\n",
            "Epoch 2/20\n",
            "534896/534896 [==============================] - 58s 108us/step - loss: 0.6941 - accuracy: 0.4946 - val_loss: 0.7153 - val_accuracy: 0.1606\n",
            "Epoch 3/20\n",
            "534896/534896 [==============================] - 56s 105us/step - loss: 0.4649 - accuracy: 0.6956 - val_loss: 0.2306 - val_accuracy: 0.9143\n",
            "Epoch 4/20\n",
            "534896/534896 [==============================] - 57s 106us/step - loss: 0.1656 - accuracy: 0.9163 - val_loss: 0.2123 - val_accuracy: 0.9170\n",
            "Epoch 5/20\n",
            "534896/534896 [==============================] - 56s 105us/step - loss: 0.1612 - accuracy: 0.9176 - val_loss: 0.1981 - val_accuracy: 0.9176\n",
            "Epoch 6/20\n",
            "534896/534896 [==============================] - 57s 107us/step - loss: 0.1582 - accuracy: 0.9180 - val_loss: 0.2004 - val_accuracy: 0.9176\n",
            "Epoch 7/20\n",
            "534896/534896 [==============================] - 56s 105us/step - loss: 0.1533 - accuracy: 0.9199 - val_loss: 0.1933 - val_accuracy: 0.9226\n",
            "Epoch 8/20\n",
            "534896/534896 [==============================] - 57s 107us/step - loss: 0.1485 - accuracy: 0.9238 - val_loss: 0.1772 - val_accuracy: 0.9274\n",
            "Epoch 9/20\n",
            "534896/534896 [==============================] - 56s 105us/step - loss: 0.1438 - accuracy: 0.9277 - val_loss: 0.2162 - val_accuracy: 0.9217\n",
            "Epoch 10/20\n",
            "534896/534896 [==============================] - 56s 105us/step - loss: 0.1405 - accuracy: 0.9294 - val_loss: 0.1962 - val_accuracy: 0.9299\n",
            "Epoch 11/20\n",
            "534896/534896 [==============================] - 57s 107us/step - loss: 0.1380 - accuracy: 0.9306 - val_loss: 0.1563 - val_accuracy: 0.9322\n",
            "Epoch 12/20\n",
            "534896/534896 [==============================] - 56s 104us/step - loss: 0.1356 - accuracy: 0.9315 - val_loss: 0.1812 - val_accuracy: 0.9298\n",
            "Epoch 13/20\n",
            "534896/534896 [==============================] - 57s 107us/step - loss: 0.1339 - accuracy: 0.9322 - val_loss: 0.1730 - val_accuracy: 0.9309\n",
            "Epoch 14/20\n",
            "534896/534896 [==============================] - 56s 105us/step - loss: 0.1325 - accuracy: 0.9326 - val_loss: 0.1788 - val_accuracy: 0.9298\n",
            "Epoch 15/20\n",
            "534896/534896 [==============================] - 58s 108us/step - loss: 0.1321 - accuracy: 0.9328 - val_loss: 0.1525 - val_accuracy: 0.9345\n",
            "Epoch 16/20\n",
            "534896/534896 [==============================] - 57s 107us/step - loss: 0.1307 - accuracy: 0.9336 - val_loss: 0.1777 - val_accuracy: 0.9327\n",
            "Epoch 17/20\n",
            "534896/534896 [==============================] - 58s 108us/step - loss: 0.1295 - accuracy: 0.9337 - val_loss: 0.1725 - val_accuracy: 0.9329\n",
            "Epoch 18/20\n",
            "534896/534896 [==============================] - 58s 108us/step - loss: 0.1290 - accuracy: 0.9339 - val_loss: 0.1440 - val_accuracy: 0.9355\n",
            "Epoch 19/20\n",
            "534896/534896 [==============================] - 59s 110us/step - loss: 0.1285 - accuracy: 0.9342 - val_loss: 0.1370 - val_accuracy: 0.9405\n",
            "Epoch 20/20\n",
            "534896/534896 [==============================] - 57s 107us/step - loss: 0.1279 - accuracy: 0.9341 - val_loss: 0.2107 - val_accuracy: 0.9211\n"
          ],
          "name": "stdout"
        }
      ]
    },
    {
      "cell_type": "code",
      "metadata": {
        "id": "iJegDIcDtAYj",
        "colab_type": "code",
        "colab": {
          "base_uri": "https://localhost:8080/",
          "height": 68
        },
        "outputId": "30da3a14-4854-4f7f-94b5-e3beaf2ac89a"
      },
      "source": [
        "# Evaluate model on test data\n",
        "score = model3.evaluate(Xtest , Ytest)\n",
        "\n",
        "print('Test loss: %.4f' % score[0])\n",
        "print('Test accuracy: %.4f' % score[1])"
      ],
      "execution_count": 33,
      "outputs": [
        {
          "output_type": "stream",
          "text": [
            "114620/114620 [==============================] - 6s 51us/step\n",
            "Test loss: 0.2066\n",
            "Test accuracy: 0.9224\n"
          ],
          "name": "stdout"
        }
      ]
    },
    {
      "cell_type": "code",
      "metadata": {
        "id": "IJ9hTDRUtAYm",
        "colab_type": "code",
        "colab": {
          "base_uri": "https://localhost:8080/",
          "height": 541
        },
        "outputId": "d7a72fe8-5158-46db-85ab-bb2e49c19de3"
      },
      "source": [
        "plot_results(history3)"
      ],
      "execution_count": 34,
      "outputs": [
        {
          "output_type": "display_data",
          "data": {
            "image/png": "[encoded data removed]",
            "text/plain": [
              "<Figure size 720x288 with 1 Axes>"
            ]
          },
          "metadata": {
            "tags": [],
            "needs_background": "light"
          }
        },
        {
          "output_type": "display_data",
          "data": {
            "image/png": "[encoded data removed]",
            "text/plain": [
              "<Figure size 720x288 with 1 Axes>"
            ]
          },
          "metadata": {
            "tags": [],
            "needs_background": "light"
          }
        }
      ]
    },
    {
      "cell_type": "markdown",
      "metadata": {
        "id": "peWwTUWCtAYq",
        "colab_type": "text"
      },
      "source": [
        "### 2 layers, 50 nodes, class weights"
      ]
    },
    {
      "cell_type": "code",
      "metadata": {
        "scrolled": true,
        "id": "tLGrGiM8tAYr",
        "colab_type": "code",
        "colab": {
          "base_uri": "https://localhost:8080/",
          "height": 714
        },
        "outputId": "0f535ba4-8a77-48d8-956a-8ca0f76452c8"
      },
      "source": [
        "# Setup some training parameters\n",
        "batch_size = 10000\n",
        "epochs = 20\n",
        "input_shape = Xtrain.shape\n",
        "\n",
        "# Build and train model\n",
        "model4 = build_DNN(input_shape,2,50,'sigmoid','sgd',0.1)\n",
        "\n",
        "history4 = model4.fit(Xtrain,Ytrain,epochs=epochs,validation_data=(Xval,Yval),class_weight=weights)"
      ],
      "execution_count": 35,
      "outputs": [
        {
          "output_type": "stream",
          "text": [
            "Train on 534896 samples, validate on 114620 samples\n",
            "Epoch 1/20\n",
            "534896/534896 [==============================] - 52s 98us/step - loss: 0.1760 - accuracy: 0.9103 - val_loss: 0.1795 - val_accuracy: 0.9161\n",
            "Epoch 2/20\n",
            "534896/534896 [==============================] - 52s 97us/step - loss: 0.1608 - accuracy: 0.9174 - val_loss: 0.2097 - val_accuracy: 0.9171\n",
            "Epoch 3/20\n",
            "534896/534896 [==============================] - 52s 97us/step - loss: 0.1565 - accuracy: 0.9180 - val_loss: 0.1631 - val_accuracy: 0.9187\n",
            "Epoch 4/20\n",
            "534896/534896 [==============================] - 52s 98us/step - loss: 0.1520 - accuracy: 0.9188 - val_loss: 0.2069 - val_accuracy: 0.9188\n",
            "Epoch 5/20\n",
            "534896/534896 [==============================] - 51s 95us/step - loss: 0.1473 - accuracy: 0.9215 - val_loss: 0.1743 - val_accuracy: 0.9234\n",
            "Epoch 6/20\n",
            "534896/534896 [==============================] - 52s 98us/step - loss: 0.1420 - accuracy: 0.9253 - val_loss: 0.1750 - val_accuracy: 0.9281\n",
            "Epoch 7/20\n",
            "534896/534896 [==============================] - 50s 94us/step - loss: 0.1378 - accuracy: 0.9285 - val_loss: 0.1734 - val_accuracy: 0.9299\n",
            "Epoch 8/20\n",
            "534896/534896 [==============================] - 50s 94us/step - loss: 0.1343 - accuracy: 0.9309 - val_loss: 0.1569 - val_accuracy: 0.9320\n",
            "Epoch 9/20\n",
            "534896/534896 [==============================] - 50s 94us/step - loss: 0.1326 - accuracy: 0.9318 - val_loss: 0.1766 - val_accuracy: 0.9314\n",
            "Epoch 10/20\n",
            "534896/534896 [==============================] - 51s 95us/step - loss: 0.1303 - accuracy: 0.9331 - val_loss: 0.1749 - val_accuracy: 0.9326\n",
            "Epoch 11/20\n",
            "534896/534896 [==============================] - 50s 94us/step - loss: 0.1288 - accuracy: 0.9338 - val_loss: 0.1655 - val_accuracy: 0.9324\n",
            "Epoch 12/20\n",
            "534896/534896 [==============================] - 51s 95us/step - loss: 0.1273 - accuracy: 0.9342 - val_loss: 0.1830 - val_accuracy: 0.9324\n",
            "Epoch 13/20\n",
            "534896/534896 [==============================] - 51s 96us/step - loss: 0.1263 - accuracy: 0.9347 - val_loss: 0.1672 - val_accuracy: 0.9314\n",
            "Epoch 14/20\n",
            "534896/534896 [==============================] - 50s 94us/step - loss: 0.1255 - accuracy: 0.9350 - val_loss: 0.1747 - val_accuracy: 0.9315\n",
            "Epoch 15/20\n",
            "534896/534896 [==============================] - 50s 94us/step - loss: 0.1247 - accuracy: 0.9353 - val_loss: 0.1469 - val_accuracy: 0.9353\n",
            "Epoch 16/20\n",
            "534896/534896 [==============================] - 51s 96us/step - loss: 0.1241 - accuracy: 0.9355 - val_loss: 0.1784 - val_accuracy: 0.9344\n",
            "Epoch 17/20\n",
            "534896/534896 [==============================] - 51s 95us/step - loss: 0.1235 - accuracy: 0.9357 - val_loss: 0.1525 - val_accuracy: 0.9354\n",
            "Epoch 18/20\n",
            "534896/534896 [==============================] - 51s 95us/step - loss: 0.1231 - accuracy: 0.9358 - val_loss: 0.1648 - val_accuracy: 0.9342\n",
            "Epoch 19/20\n",
            "534896/534896 [==============================] - 52s 98us/step - loss: 0.1227 - accuracy: 0.9360 - val_loss: 0.1620 - val_accuracy: 0.9341\n",
            "Epoch 20/20\n",
            "534896/534896 [==============================] - 51s 95us/step - loss: 0.1223 - accuracy: 0.9363 - val_loss: 0.1572 - val_accuracy: 0.9351\n"
          ],
          "name": "stdout"
        }
      ]
    },
    {
      "cell_type": "code",
      "metadata": {
        "id": "zXrVzRYLtAYw",
        "colab_type": "code",
        "colab": {
          "base_uri": "https://localhost:8080/",
          "height": 68
        },
        "outputId": "7ab63b52-bb84-4e7a-a61f-8c41f6f5f2ce"
      },
      "source": [
        "# Evaluate model on test data\n",
        "score = model4.evaluate(Xtest , Ytest)\n",
        "\n",
        "print('Test loss: %.4f' % score[0])\n",
        "print('Test accuracy: %.4f' % score[1])"
      ],
      "execution_count": 36,
      "outputs": [
        {
          "output_type": "stream",
          "text": [
            "114620/114620 [==============================] - 5s 47us/step\n",
            "Test loss: 0.1547\n",
            "Test accuracy: 0.9362\n"
          ],
          "name": "stdout"
        }
      ]
    },
    {
      "cell_type": "code",
      "metadata": {
        "id": "Hffe0l0JtAY7",
        "colab_type": "code",
        "colab": {}
      },
      "source": [
        "plot_results(history4)"
      ],
      "execution_count": 0,
      "outputs": []
    },
    {
      "cell_type": "markdown",
      "metadata": {
        "id": "jpYc0wzwtAY-",
        "colab_type": "text"
      },
      "source": [
        "### 4 layers, 50 nodes, class weights"
      ]
    },
    {
      "cell_type": "code",
      "metadata": {
        "scrolled": true,
        "id": "4bZRgW5DtAY_",
        "colab_type": "code",
        "colab": {
          "base_uri": "https://localhost:8080/",
          "height": 714
        },
        "outputId": "ddcf3a23-ca8f-479d-c47a-9c55b4bb4df6"
      },
      "source": [
        "# Setup some training parameters\n",
        "batch_size = 10000\n",
        "epochs = 20\n",
        "input_shape = Xtest.shape\n",
        "\n",
        "# Build and train model\n",
        "model5 = build_DNN(input_shape=input_shape,n_layers=4,n_nodes=50,act_fun='sigmoid',optimizer='sgd',learning_rate=0.1)\n",
        "\n",
        "history5 = model5.fit(Xtrain,Ytrain,epochs=epochs,validation_data=(Xval,Yval),class_weight=weights)"
      ],
      "execution_count": 37,
      "outputs": [
        {
          "output_type": "stream",
          "text": [
            "Train on 534896 samples, validate on 114620 samples\n",
            "Epoch 1/20\n",
            "534896/534896 [==============================] - 57s 107us/step - loss: 0.6957 - accuracy: 0.4993 - val_loss: 0.7099 - val_accuracy: 0.1606\n",
            "Epoch 2/20\n",
            "534896/534896 [==============================] - 58s 108us/step - loss: 0.5687 - accuracy: 0.6207 - val_loss: 0.2095 - val_accuracy: 0.9131\n",
            "Epoch 3/20\n",
            "534896/534896 [==============================] - 57s 107us/step - loss: 0.1678 - accuracy: 0.9153 - val_loss: 0.2068 - val_accuracy: 0.9174\n",
            "Epoch 4/20\n",
            "534896/534896 [==============================] - 58s 109us/step - loss: 0.1617 - accuracy: 0.9175 - val_loss: 0.2061 - val_accuracy: 0.9174\n",
            "Epoch 5/20\n",
            "534896/534896 [==============================] - 57s 107us/step - loss: 0.1585 - accuracy: 0.9179 - val_loss: 0.2191 - val_accuracy: 0.9174\n",
            "Epoch 6/20\n",
            "534896/534896 [==============================] - 57s 107us/step - loss: 0.1544 - accuracy: 0.9186 - val_loss: 0.1858 - val_accuracy: 0.9190\n",
            "Epoch 7/20\n",
            "534896/534896 [==============================] - 58s 108us/step - loss: 0.1499 - accuracy: 0.9209 - val_loss: 0.1872 - val_accuracy: 0.9227\n",
            "Epoch 8/20\n",
            "534896/534896 [==============================] - 57s 106us/step - loss: 0.1451 - accuracy: 0.9242 - val_loss: 0.1630 - val_accuracy: 0.9297\n",
            "Epoch 9/20\n",
            "534896/534896 [==============================] - 57s 106us/step - loss: 0.1413 - accuracy: 0.9271 - val_loss: 0.1856 - val_accuracy: 0.9275\n",
            "Epoch 10/20\n",
            "534896/534896 [==============================] - 58s 108us/step - loss: 0.1385 - accuracy: 0.9290 - val_loss: 0.1561 - val_accuracy: 0.9314\n",
            "Epoch 11/20\n",
            "534896/534896 [==============================] - 57s 106us/step - loss: 0.1362 - accuracy: 0.9302 - val_loss: 0.1990 - val_accuracy: 0.9286\n",
            "Epoch 12/20\n",
            "534896/534896 [==============================] - 57s 106us/step - loss: 0.1346 - accuracy: 0.9312 - val_loss: 0.1861 - val_accuracy: 0.9303\n",
            "Epoch 13/20\n",
            "534896/534896 [==============================] - 57s 107us/step - loss: 0.1330 - accuracy: 0.9319 - val_loss: 0.1667 - val_accuracy: 0.9321\n",
            "Epoch 14/20\n",
            "534896/534896 [==============================] - 57s 106us/step - loss: 0.1319 - accuracy: 0.9325 - val_loss: 0.1696 - val_accuracy: 0.9317\n",
            "Epoch 15/20\n",
            "534896/534896 [==============================] - 58s 108us/step - loss: 0.1313 - accuracy: 0.9329 - val_loss: 0.1866 - val_accuracy: 0.9307\n",
            "Epoch 16/20\n",
            "534896/534896 [==============================] - 57s 106us/step - loss: 0.1301 - accuracy: 0.9333 - val_loss: 0.1862 - val_accuracy: 0.9315\n",
            "Epoch 17/20\n",
            "534896/534896 [==============================] - 57s 107us/step - loss: 0.1290 - accuracy: 0.9337 - val_loss: 0.1553 - val_accuracy: 0.9326\n",
            "Epoch 18/20\n",
            "534896/534896 [==============================] - 59s 110us/step - loss: 0.1288 - accuracy: 0.9338 - val_loss: 0.1715 - val_accuracy: 0.9339\n",
            "Epoch 19/20\n",
            "534896/534896 [==============================] - 58s 108us/step - loss: 0.1274 - accuracy: 0.9344 - val_loss: 0.1463 - val_accuracy: 0.9354\n",
            "Epoch 20/20\n",
            "534896/534896 [==============================] - 58s 109us/step - loss: 0.1266 - accuracy: 0.9347 - val_loss: 0.1662 - val_accuracy: 0.9330\n"
          ],
          "name": "stdout"
        }
      ]
    },
    {
      "cell_type": "code",
      "metadata": {
        "id": "mWmaHSeBtAZD",
        "colab_type": "code",
        "colab": {
          "base_uri": "https://localhost:8080/",
          "height": 68
        },
        "outputId": "365945de-0eeb-402e-dc32-575baa876233"
      },
      "source": [
        "# Evaluate model on test data\n",
        "score = model5.evaluate(Xtest , Ytest)\n",
        "\n",
        "print('Test loss: %.4f' % score[0])\n",
        "print('Test accuracy: %.4f' % score[1])"
      ],
      "execution_count": 38,
      "outputs": [
        {
          "output_type": "stream",
          "text": [
            "114620/114620 [==============================] - 6s 50us/step\n",
            "Test loss: 0.1632\n",
            "Test accuracy: 0.9342\n"
          ],
          "name": "stdout"
        }
      ]
    },
    {
      "cell_type": "code",
      "metadata": {
        "id": "_-O8bFnatAZG",
        "colab_type": "code",
        "colab": {
          "base_uri": "https://localhost:8080/",
          "height": 541
        },
        "outputId": "0070b64f-6ce5-424a-ed45-e632f6a05af6"
      },
      "source": [
        "plot_results(history5)"
      ],
      "execution_count": 39,
      "outputs": [
        {
          "output_type": "display_data",
          "data": {
            "image/png": "[encoded data removed]",
            "text/plain": [
              "<Figure size 720x288 with 1 Axes>"
            ]
          },
          "metadata": {
            "tags": [],
            "needs_background": "light"
          }
        },
        {
          "output_type": "display_data",
          "data": {
            "image/png": "[encoded data removed]",
            "text/plain": [
              "<Figure size 720x288 with 1 Axes>"
            ]
          },
          "metadata": {
            "tags": [],
            "needs_background": "light"
          }
        }
      ]
    },
    {
      "cell_type": "markdown",
      "metadata": {
        "id": "73DifZkptAZK",
        "colab_type": "text"
      },
      "source": [
        "# Part 16: Batch normalization\n",
        "\n",
        "Now add batch normalization after each dense layer. Remember to import BatchNormalization from keras.layers. \n",
        "\n",
        "See https://keras.io/layers/normalization/ for information about how to call the function.\n",
        "\n",
        "Question 18: Why is batch normalization important when training deep networks?"
      ]
    },
    {
      "cell_type": "markdown",
      "metadata": {
        "id": "70LVSdL5tAZL",
        "colab_type": "text"
      },
      "source": [
        "### 2 layers, 20 nodes, class weights, batch normalization"
      ]
    },
    {
      "cell_type": "code",
      "metadata": {
        "scrolled": true,
        "id": "D__rWMHptAZM",
        "colab_type": "code",
        "colab": {
          "base_uri": "https://localhost:8080/",
          "height": 714
        },
        "outputId": "9a3e2597-c1ba-48ca-bfb1-42aef489552f"
      },
      "source": [
        "# Setup some training parameters\n",
        "batch_size = 10000\n",
        "epochs = 20\n",
        "input_shape = Xtrain.shape\n",
        "\n",
        "# Build and train model\n",
        "model6 = build_DNN(input_shape=input_shape,n_layers=2,n_nodes=20,act_fun='sigmoid',optimizer='sgd',learning_rate=0.1,use_bn=True)\n",
        "\n",
        "history6 = model6.fit(Xtrain,Ytrain,epochs=epochs,validation_data=(Xval,Yval),class_weight=weights)"
      ],
      "execution_count": 40,
      "outputs": [
        {
          "output_type": "stream",
          "text": [
            "Train on 534896 samples, validate on 114620 samples\n",
            "Epoch 1/20\n",
            "534896/534896 [==============================] - 51s 95us/step - loss: 0.1767 - accuracy: 0.9105 - val_loss: 0.1920 - val_accuracy: 0.9169\n",
            "Epoch 2/20\n",
            "534896/534896 [==============================] - 52s 96us/step - loss: 0.1598 - accuracy: 0.9174 - val_loss: 0.2228 - val_accuracy: 0.9168\n",
            "Epoch 3/20\n",
            "534896/534896 [==============================] - 52s 97us/step - loss: 0.1547 - accuracy: 0.9180 - val_loss: 0.2096 - val_accuracy: 0.9175\n",
            "Epoch 4/20\n",
            "534896/534896 [==============================] - 51s 94us/step - loss: 0.1498 - accuracy: 0.9200 - val_loss: 0.1646 - val_accuracy: 0.9262\n",
            "Epoch 5/20\n",
            "534896/534896 [==============================] - 51s 95us/step - loss: 0.1454 - accuracy: 0.9230 - val_loss: 0.1902 - val_accuracy: 0.9229\n",
            "Epoch 6/20\n",
            "534896/534896 [==============================] - 52s 97us/step - loss: 0.1422 - accuracy: 0.9256 - val_loss: 0.1836 - val_accuracy: 0.9242\n",
            "Epoch 7/20\n",
            "534896/534896 [==============================] - 50s 93us/step - loss: 0.1398 - accuracy: 0.9274 - val_loss: 0.1872 - val_accuracy: 0.9247\n",
            "Epoch 8/20\n",
            "534896/534896 [==============================] - 49s 92us/step - loss: 0.1371 - accuracy: 0.9291 - val_loss: 0.1836 - val_accuracy: 0.9280\n",
            "Epoch 9/20\n",
            "534896/534896 [==============================] - 50s 94us/step - loss: 0.1348 - accuracy: 0.9304 - val_loss: 0.1714 - val_accuracy: 0.9289\n",
            "Epoch 10/20\n",
            "534896/534896 [==============================] - 49s 92us/step - loss: 0.1334 - accuracy: 0.9314 - val_loss: 0.1853 - val_accuracy: 0.9309\n",
            "Epoch 11/20\n",
            "534896/534896 [==============================] - 49s 92us/step - loss: 0.1320 - accuracy: 0.9322 - val_loss: 0.1691 - val_accuracy: 0.9303\n",
            "Epoch 12/20\n",
            "534896/534896 [==============================] - 50s 93us/step - loss: 0.1306 - accuracy: 0.9329 - val_loss: 0.1966 - val_accuracy: 0.9267\n",
            "Epoch 13/20\n",
            "534896/534896 [==============================] - 50s 93us/step - loss: 0.1297 - accuracy: 0.9333 - val_loss: 0.1357 - val_accuracy: 0.9382\n",
            "Epoch 14/20\n",
            "534896/534896 [==============================] - 49s 91us/step - loss: 0.1291 - accuracy: 0.9335 - val_loss: 0.1783 - val_accuracy: 0.9317\n",
            "Epoch 15/20\n",
            "534896/534896 [==============================] - 49s 91us/step - loss: 0.1283 - accuracy: 0.9339 - val_loss: 0.1510 - val_accuracy: 0.9333\n",
            "Epoch 16/20\n",
            "534896/534896 [==============================] - 50s 94us/step - loss: 0.1279 - accuracy: 0.9337 - val_loss: 0.1667 - val_accuracy: 0.9329\n",
            "Epoch 17/20\n",
            "534896/534896 [==============================] - 50s 94us/step - loss: 0.1266 - accuracy: 0.9345 - val_loss: 0.1652 - val_accuracy: 0.9310\n",
            "Epoch 18/20\n",
            "534896/534896 [==============================] - 50s 94us/step - loss: 0.1264 - accuracy: 0.9346 - val_loss: 0.1475 - val_accuracy: 0.9350\n",
            "Epoch 19/20\n",
            "534896/534896 [==============================] - 52s 96us/step - loss: 0.1271 - accuracy: 0.9344 - val_loss: 0.1772 - val_accuracy: 0.9327\n",
            "Epoch 20/20\n",
            "534896/534896 [==============================] - 50s 93us/step - loss: 0.1257 - accuracy: 0.9348 - val_loss: 0.1491 - val_accuracy: 0.9350\n"
          ],
          "name": "stdout"
        }
      ]
    },
    {
      "cell_type": "code",
      "metadata": {
        "id": "hJs5juqPtAZQ",
        "colab_type": "code",
        "colab": {
          "base_uri": "https://localhost:8080/",
          "height": 68
        },
        "outputId": "d26188d5-446c-4a9d-e1ea-de5fe0675194"
      },
      "source": [
        "# Evaluate model on test data\n",
        "score = model6.evaluate(Xtest , Ytest)\n",
        "\n",
        "print('Test loss: %.4f' % score[0])\n",
        "print('Test accuracy: %.4f' % score[1])"
      ],
      "execution_count": 41,
      "outputs": [
        {
          "output_type": "stream",
          "text": [
            "114620/114620 [==============================] - 5s 47us/step\n",
            "Test loss: 0.1454\n",
            "Test accuracy: 0.9362\n"
          ],
          "name": "stdout"
        }
      ]
    },
    {
      "cell_type": "code",
      "metadata": {
        "id": "fPeWPjZ3tAZT",
        "colab_type": "code",
        "colab": {
          "base_uri": "https://localhost:8080/",
          "height": 541
        },
        "outputId": "ae04922d-f625-45d7-e742-d3c0308192d7"
      },
      "source": [
        "plot_results(history6)"
      ],
      "execution_count": 42,
      "outputs": [
        {
          "output_type": "display_data",
          "data": {
            "image/png": "[encoded data removed]",
            "text/plain": [
              "<Figure size 720x288 with 1 Axes>"
            ]
          },
          "metadata": {
            "tags": [],
            "needs_background": "light"
          }
        },
        {
          "output_type": "display_data",
          "data": {
            "image/png": "[encoded data removed]",
            "text/plain": [
              "<Figure size 720x288 with 1 Axes>"
            ]
          },
          "metadata": {
            "tags": [],
            "needs_background": "light"
          }
        }
      ]
    },
    {
      "cell_type": "markdown",
      "metadata": {
        "id": "Kt40jSNztAZY",
        "colab_type": "text"
      },
      "source": [
        "# Part 17: Activation function\n",
        "\n",
        "Try changing the activation function in each layer from sigmoid to ReLU, write down the test accuracy.\n",
        "\n",
        "Note: the last layer should still have a sigmoid activation function."
      ]
    },
    {
      "cell_type": "markdown",
      "metadata": {
        "id": "-UmPGFnGtAZY",
        "colab_type": "text"
      },
      "source": [
        "### 2 layers, 20 nodes, class weights, ReLU, no batch normalization"
      ]
    },
    {
      "cell_type": "code",
      "metadata": {
        "scrolled": true,
        "id": "jp_gPyO6tAZZ",
        "colab_type": "code",
        "colab": {
          "base_uri": "https://localhost:8080/",
          "height": 714
        },
        "outputId": "a12edd76-8229-4ee0-c1a7-99aaafe28af6"
      },
      "source": [
        "# Setup some training parameters\n",
        "batch_size = 10000\n",
        "epochs = 20\n",
        "input_shape = Xtrain.shape\n",
        "\n",
        "# Build and train model\n",
        "model7 = build_DNN(input_shape=input_shape,n_layers=2,n_nodes=20,act_fun='relu',optimizer='sgd',learning_rate=0.1)\n",
        "\n",
        "history7 = model7.fit(Xtrain,Ytrain,epochs=epochs,validation_data=(Xval,Yval),class_weight=weights)"
      ],
      "execution_count": 47,
      "outputs": [
        {
          "output_type": "stream",
          "text": [
            "Train on 534896 samples, validate on 114620 samples\n",
            "Epoch 1/20\n",
            "534896/534896 [==============================] - 52s 98us/step - loss: 7.6665 - accuracy: 5.6086e-06 - val_loss: 2.4494 - val_accuracy: 0.0000e+00\n",
            "Epoch 2/20\n",
            "534896/534896 [==============================] - 51s 96us/step - loss: 7.6666 - accuracy: 0.0000e+00 - val_loss: 2.4494 - val_accuracy: 0.0000e+00\n",
            "Epoch 3/20\n",
            "534896/534896 [==============================] - 52s 96us/step - loss: 7.6666 - accuracy: 0.0000e+00 - val_loss: 2.4494 - val_accuracy: 0.0000e+00\n",
            "Epoch 4/20\n",
            "534896/534896 [==============================] - 53s 99us/step - loss: 7.6666 - accuracy: 0.0000e+00 - val_loss: 2.4494 - val_accuracy: 0.0000e+00\n",
            "Epoch 5/20\n",
            "534896/534896 [==============================] - 54s 102us/step - loss: 7.6666 - accuracy: 0.0000e+00 - val_loss: 2.4494 - val_accuracy: 0.0000e+00\n",
            "Epoch 6/20\n",
            "534896/534896 [==============================] - 52s 98us/step - loss: 7.6666 - accuracy: 0.0000e+00 - val_loss: 2.4494 - val_accuracy: 0.0000e+00\n",
            "Epoch 7/20\n",
            "534896/534896 [==============================] - 53s 99us/step - loss: 7.6666 - accuracy: 0.0000e+00 - val_loss: 2.4494 - val_accuracy: 0.0000e+00\n",
            "Epoch 8/20\n",
            "534896/534896 [==============================] - 53s 99us/step - loss: 7.6666 - accuracy: 0.0000e+00 - val_loss: 2.4494 - val_accuracy: 0.0000e+00\n",
            "Epoch 9/20\n",
            "534896/534896 [==============================] - 55s 103us/step - loss: 7.6666 - accuracy: 0.0000e+00 - val_loss: 2.4494 - val_accuracy: 0.0000e+00\n",
            "Epoch 10/20\n",
            "534896/534896 [==============================] - 55s 103us/step - loss: 7.6666 - accuracy: 0.0000e+00 - val_loss: 2.4494 - val_accuracy: 0.0000e+00\n",
            "Epoch 11/20\n",
            "534896/534896 [==============================] - 53s 100us/step - loss: 7.6666 - accuracy: 0.0000e+00 - val_loss: 2.4494 - val_accuracy: 0.0000e+00\n",
            "Epoch 12/20\n",
            "534896/534896 [==============================] - 54s 100us/step - loss: 7.6666 - accuracy: 0.0000e+00 - val_loss: 2.4494 - val_accuracy: 0.0000e+00\n",
            "Epoch 13/20\n",
            "534896/534896 [==============================] - 54s 101us/step - loss: 7.6666 - accuracy: 0.0000e+00 - val_loss: 2.4494 - val_accuracy: 0.0000e+00\n",
            "Epoch 14/20\n",
            "534896/534896 [==============================] - 54s 100us/step - loss: 7.6666 - accuracy: 0.0000e+00 - val_loss: 2.4494 - val_accuracy: 0.0000e+00\n",
            "Epoch 15/20\n",
            "534896/534896 [==============================] - 54s 100us/step - loss: 7.6666 - accuracy: 0.0000e+00 - val_loss: 2.4494 - val_accuracy: 0.0000e+00\n",
            "Epoch 16/20\n",
            "534896/534896 [==============================] - 55s 102us/step - loss: 7.6666 - accuracy: 0.0000e+00 - val_loss: 2.4494 - val_accuracy: 0.0000e+00\n",
            "Epoch 17/20\n",
            "534896/534896 [==============================] - 52s 97us/step - loss: 7.6666 - accuracy: 0.0000e+00 - val_loss: 2.4494 - val_accuracy: 0.0000e+00\n",
            "Epoch 18/20\n",
            "534896/534896 [==============================] - 52s 97us/step - loss: 7.6666 - accuracy: 0.0000e+00 - val_loss: 2.4494 - val_accuracy: 0.0000e+00\n",
            "Epoch 19/20\n",
            "534896/534896 [==============================] - 53s 100us/step - loss: 7.6666 - accuracy: 0.0000e+00 - val_loss: 2.4494 - val_accuracy: 0.0000e+00\n",
            "Epoch 20/20\n",
            "534896/534896 [==============================] - 54s 101us/step - loss: 7.6666 - accuracy: 0.0000e+00 - val_loss: 2.4494 - val_accuracy: 0.0000e+00\n"
          ],
          "name": "stdout"
        }
      ]
    },
    {
      "cell_type": "code",
      "metadata": {
        "id": "iR0xtSVDtAZc",
        "colab_type": "code",
        "colab": {
          "base_uri": "https://localhost:8080/",
          "height": 68
        },
        "outputId": "6974401b-369f-4650-8dec-07249e7f001a"
      },
      "source": [
        "# Evaluate model on test data\n",
        "score = model7.evaluate(Xtest , Ytest)\n",
        "\n",
        "print('Test loss: %.4f' % score[0])\n",
        "print('Test accuracy: %.4f' % score[1])"
      ],
      "execution_count": 48,
      "outputs": [
        {
          "output_type": "stream",
          "text": [
            "114620/114620 [==============================] - 6s 49us/step\n",
            "Test loss: 2.4214\n",
            "Test accuracy: 0.0000\n"
          ],
          "name": "stdout"
        }
      ]
    },
    {
      "cell_type": "code",
      "metadata": {
        "id": "4r9E83KGtAZg",
        "colab_type": "code",
        "colab": {
          "base_uri": "https://localhost:8080/",
          "height": 552
        },
        "outputId": "59946377-41e9-4ac4-b449-9bfe56c0c470"
      },
      "source": [
        "plot_results(history7)"
      ],
      "execution_count": 49,
      "outputs": [
        {
          "output_type": "display_data",
          "data": {
            "image/png": "[encoded data removed]",
            "text/plain": [
              "<Figure size 720x288 with 1 Axes>"
            ]
          },
          "metadata": {
            "tags": [],
            "needs_background": "light"
          }
        },
        {
          "output_type": "display_data",
          "data": {
            "image/png": "[encoded data removed]",
            "text/plain": [
              "<Figure size 720x288 with 1 Axes>"
            ]
          },
          "metadata": {
            "tags": [],
            "needs_background": "light"
          }
        }
      ]
    },
    {
      "cell_type": "markdown",
      "metadata": {
        "id": "2RGMlXi1tAZj",
        "colab_type": "text"
      },
      "source": [
        "# Part 18: Optimizer\n",
        "\n",
        "Try changing the optimizer from SGD to Adam (with learning rate 0.1 as before). Remember to import the Adam optimizer from keras.optimizers. \n",
        "\n",
        "https://keras.io/optimizers/\n"
      ]
    },
    {
      "cell_type": "markdown",
      "metadata": {
        "id": "4iu-XCsRtAZl",
        "colab_type": "text"
      },
      "source": [
        "### 2 layers, 20 nodes, class weights, Adam optimizer, no batch normalization, sigmoid activations"
      ]
    },
    {
      "cell_type": "code",
      "metadata": {
        "scrolled": true,
        "id": "k7PAktKVtAZm",
        "colab_type": "code",
        "colab": {
          "base_uri": "https://localhost:8080/",
          "height": 714
        },
        "outputId": "23ba4fc9-cafd-478c-95d1-42e790cb833d"
      },
      "source": [
        "# Setup some training parameters\n",
        "batch_size = 10000\n",
        "epochs = 20\n",
        "input_shape = Xtrain.shape\n",
        "\n",
        "# Build and train model\n",
        "model8 = build_DNN(input_shape=input_shape,n_layers=2,n_nodes=20,act_fun='sigmoid',optimizer='Adam',learning_rate=0.1,use_bn=False)\n",
        "\n",
        "history8 = model8.fit(Xtrain,Ytrain,epochs=epochs,validation_data=(Xval,Yval),class_weight=weights)"
      ],
      "execution_count": 50,
      "outputs": [
        {
          "output_type": "stream",
          "text": [
            "Train on 534896 samples, validate on 114620 samples\n",
            "Epoch 1/20\n",
            "534896/534896 [==============================] - 66s 124us/step - loss: 0.1865 - accuracy: 0.9075 - val_loss: 0.2598 - val_accuracy: 0.9104\n",
            "Epoch 2/20\n",
            "534896/534896 [==============================] - 65s 122us/step - loss: 0.1790 - accuracy: 0.9114 - val_loss: 0.2157 - val_accuracy: 0.9134\n",
            "Epoch 3/20\n",
            "534896/534896 [==============================] - 65s 121us/step - loss: 0.1746 - accuracy: 0.9121 - val_loss: 0.1988 - val_accuracy: 0.9146\n",
            "Epoch 4/20\n",
            "534896/534896 [==============================] - 64s 119us/step - loss: 0.1734 - accuracy: 0.9135 - val_loss: 0.2206 - val_accuracy: 0.9129\n",
            "Epoch 5/20\n",
            "534896/534896 [==============================] - 64s 119us/step - loss: 0.1742 - accuracy: 0.9133 - val_loss: 0.2359 - val_accuracy: 0.9133\n",
            "Epoch 6/20\n",
            "534896/534896 [==============================] - 65s 121us/step - loss: 0.1746 - accuracy: 0.9126 - val_loss: 0.2022 - val_accuracy: 0.9145\n",
            "Epoch 7/20\n",
            "534896/534896 [==============================] - 64s 120us/step - loss: 0.1734 - accuracy: 0.9144 - val_loss: 0.2269 - val_accuracy: 0.9137\n",
            "Epoch 8/20\n",
            "534896/534896 [==============================] - 63s 118us/step - loss: 0.1770 - accuracy: 0.9123 - val_loss: 0.3258 - val_accuracy: 0.8884\n",
            "Epoch 9/20\n",
            "534896/534896 [==============================] - 64s 120us/step - loss: 0.1779 - accuracy: 0.9125 - val_loss: 0.2640 - val_accuracy: 0.9144\n",
            "Epoch 10/20\n",
            "534896/534896 [==============================] - 66s 124us/step - loss: 0.1752 - accuracy: 0.9135 - val_loss: 0.2043 - val_accuracy: 0.9140\n",
            "Epoch 11/20\n",
            "534896/534896 [==============================] - 64s 120us/step - loss: 0.1748 - accuracy: 0.9131 - val_loss: 0.2367 - val_accuracy: 0.9112\n",
            "Epoch 12/20\n",
            "534896/534896 [==============================] - 65s 121us/step - loss: 0.1736 - accuracy: 0.9139 - val_loss: 0.2372 - val_accuracy: 0.9104\n",
            "Epoch 13/20\n",
            "534896/534896 [==============================] - 65s 122us/step - loss: 0.1768 - accuracy: 0.9116 - val_loss: 0.2163 - val_accuracy: 0.9139\n",
            "Epoch 14/20\n",
            "534896/534896 [==============================] - 65s 122us/step - loss: 0.1754 - accuracy: 0.9129 - val_loss: 0.2282 - val_accuracy: 0.9129\n",
            "Epoch 15/20\n",
            "534896/534896 [==============================] - 67s 126us/step - loss: 0.1727 - accuracy: 0.9139 - val_loss: 0.2224 - val_accuracy: 0.9153\n",
            "Epoch 16/20\n",
            "534896/534896 [==============================] - 66s 124us/step - loss: 0.1734 - accuracy: 0.9137 - val_loss: 0.2379 - val_accuracy: 0.9104\n",
            "Epoch 17/20\n",
            "534896/534896 [==============================] - 65s 122us/step - loss: 0.1746 - accuracy: 0.9128 - val_loss: 0.2298 - val_accuracy: 0.9130\n",
            "Epoch 18/20\n",
            "534896/534896 [==============================] - 64s 120us/step - loss: 0.1746 - accuracy: 0.9127 - val_loss: 0.2209 - val_accuracy: 0.9114\n",
            "Epoch 19/20\n",
            "534896/534896 [==============================] - 64s 119us/step - loss: 0.1716 - accuracy: 0.9140 - val_loss: 0.2080 - val_accuracy: 0.9158\n",
            "Epoch 20/20\n",
            "534896/534896 [==============================] - 65s 121us/step - loss: 0.1722 - accuracy: 0.9136 - val_loss: 0.2307 - val_accuracy: 0.9150\n"
          ],
          "name": "stdout"
        }
      ]
    },
    {
      "cell_type": "code",
      "metadata": {
        "id": "tVHWwT7ftAZq",
        "colab_type": "code",
        "colab": {
          "base_uri": "https://localhost:8080/",
          "height": 68
        },
        "outputId": "2ba278d8-7ec9-43af-f948-1e53bfdc268c"
      },
      "source": [
        "# Evaluate model on test data\n",
        "score = model8.evaluate(Xtest , Ytest)\n",
        "\n",
        "print('Test loss: %.4f' % score[0])\n",
        "print('Test accuracy: %.4f' % score[1])"
      ],
      "execution_count": 54,
      "outputs": [
        {
          "output_type": "stream",
          "text": [
            "114620/114620 [==============================] - 6s 48us/step\n",
            "Test loss: 0.2275\n",
            "Test accuracy: 0.9161\n"
          ],
          "name": "stdout"
        }
      ]
    },
    {
      "cell_type": "code",
      "metadata": {
        "id": "Fh1lHsjttAZt",
        "colab_type": "code",
        "colab": {
          "base_uri": "https://localhost:8080/",
          "height": 541
        },
        "outputId": "341fdcc0-a45c-4c07-b431-3ea446ffe934"
      },
      "source": [
        "plot_results(history8)"
      ],
      "execution_count": 55,
      "outputs": [
        {
          "output_type": "display_data",
          "data": {
            "image/png": "[encoded data removed]",
            "text/plain": [
              "<Figure size 720x288 with 1 Axes>"
            ]
          },
          "metadata": {
            "tags": [],
            "needs_background": "light"
          }
        },
        {
          "output_type": "display_data",
          "data": {
            "image/png": "[encoded data removed]",
            "text/plain": [
              "<Figure size 720x288 with 1 Axes>"
            ]
          },
          "metadata": {
            "tags": [],
            "needs_background": "light"
          }
        }
      ]
    },
    {
      "cell_type": "markdown",
      "metadata": {
        "id": "dv9xVPUptAZv",
        "colab_type": "text"
      },
      "source": [
        "# Part 19: Dropout regularization\n",
        "\n",
        "Dropout is a type of regularization that can improve accuracy for validation and test data. \n",
        "\n",
        "Add a Dropout layer after each Dense layer (but not after the final dense layer), with a dropout probability of 50%. Remember to first import the Dropout layer from keras.layers\n",
        "\n",
        "See https://keras.io/layers/core/ for how the Dropout layer works.\n",
        "\n",
        "---\n",
        "\n",
        "Question 19: How does the validation accuracy change when adding dropout?\n",
        "\n",
        "Question 20: How does the test accuracy change when adding dropout?"
      ]
    },
    {
      "cell_type": "markdown",
      "metadata": {
        "id": "n7FH4IcDtAZx",
        "colab_type": "text"
      },
      "source": [
        "### 2 layers, 20 nodes, class weights, dropout, SGD optimizer, no batch normalization, sigmoid activations"
      ]
    },
    {
      "cell_type": "code",
      "metadata": {
        "scrolled": true,
        "id": "XqKsTlKOtAZy",
        "colab_type": "code",
        "colab": {
          "base_uri": "https://localhost:8080/",
          "height": 714
        },
        "outputId": "ee883d1a-8bd7-4608-fac3-6e82f54404d3"
      },
      "source": [
        "# Setup some training parameters\n",
        "batch_size = 10000\n",
        "epochs = 20\n",
        "input_shape = Xtrain.shape\n",
        "\n",
        "# Build and train model\n",
        "#model9 =  build_DNN(input_shape=input_shape,n_layers=2,n_nodes=20,act_fun='sigmoid',optimizer='Adam',use_bn=False, use_dropout = True , drate = 0.50  )\n",
        "\n",
        "model9 = build_DNN(input_shape=input_shape,n_layers=2,n_nodes=20,act_fun='sigmoid',optimizer='sgd',learning_rate=0.1,use_bn=False, use_dropout = True , dRate = 0.50)\n",
        "\n",
        "history9 = model9.fit(Xtrain,Ytrain,epochs=epochs,validation_data=(Xval,Yval),class_weight=weights)"
      ],
      "execution_count": 59,
      "outputs": [
        {
          "output_type": "stream",
          "text": [
            "Train on 534896 samples, validate on 114620 samples\n",
            "Epoch 1/20\n",
            "534896/534896 [==============================] - 59s 110us/step - loss: 0.2175 - accuracy: 0.8897 - val_loss: 0.2284 - val_accuracy: 0.9123\n",
            "Epoch 2/20\n",
            "534896/534896 [==============================] - 58s 108us/step - loss: 0.1812 - accuracy: 0.9097 - val_loss: 0.2163 - val_accuracy: 0.9147\n",
            "Epoch 3/20\n",
            "534896/534896 [==============================] - 58s 108us/step - loss: 0.1775 - accuracy: 0.9113 - val_loss: 0.2118 - val_accuracy: 0.9143\n",
            "Epoch 4/20\n",
            "534896/534896 [==============================] - 57s 106us/step - loss: 0.1772 - accuracy: 0.9113 - val_loss: 0.2177 - val_accuracy: 0.9146\n",
            "Epoch 5/20\n",
            "534896/534896 [==============================] - 58s 108us/step - loss: 0.1756 - accuracy: 0.9118 - val_loss: 0.2146 - val_accuracy: 0.9149\n",
            "Epoch 6/20\n",
            "534896/534896 [==============================] - 59s 110us/step - loss: 0.1757 - accuracy: 0.9118 - val_loss: 0.2146 - val_accuracy: 0.9141\n",
            "Epoch 7/20\n",
            "534896/534896 [==============================] - 58s 109us/step - loss: 0.1753 - accuracy: 0.9118 - val_loss: 0.2128 - val_accuracy: 0.9149\n",
            "Epoch 8/20\n",
            "534896/534896 [==============================] - 57s 107us/step - loss: 0.1755 - accuracy: 0.9120 - val_loss: 0.2120 - val_accuracy: 0.9146\n",
            "Epoch 9/20\n",
            "534896/534896 [==============================] - 57s 107us/step - loss: 0.1755 - accuracy: 0.9118 - val_loss: 0.2137 - val_accuracy: 0.9148\n",
            "Epoch 10/20\n",
            "534896/534896 [==============================] - 57s 106us/step - loss: 0.1748 - accuracy: 0.9116 - val_loss: 0.2121 - val_accuracy: 0.9146\n",
            "Epoch 11/20\n",
            "534896/534896 [==============================] - 58s 108us/step - loss: 0.1744 - accuracy: 0.9120 - val_loss: 0.2141 - val_accuracy: 0.9150\n",
            "Epoch 12/20\n",
            "534896/534896 [==============================] - 57s 106us/step - loss: 0.1740 - accuracy: 0.9123 - val_loss: 0.2125 - val_accuracy: 0.9148\n",
            "Epoch 13/20\n",
            "534896/534896 [==============================] - 56s 105us/step - loss: 0.1748 - accuracy: 0.9119 - val_loss: 0.2175 - val_accuracy: 0.9139\n",
            "Epoch 14/20\n",
            "534896/534896 [==============================] - 57s 106us/step - loss: 0.1743 - accuracy: 0.9122 - val_loss: 0.2069 - val_accuracy: 0.9151\n",
            "Epoch 15/20\n",
            "534896/534896 [==============================] - 57s 107us/step - loss: 0.1741 - accuracy: 0.9124 - val_loss: 0.2100 - val_accuracy: 0.9150\n",
            "Epoch 16/20\n",
            "534896/534896 [==============================] - 56s 105us/step - loss: 0.1732 - accuracy: 0.9127 - val_loss: 0.2123 - val_accuracy: 0.9151\n",
            "Epoch 17/20\n",
            "534896/534896 [==============================] - 59s 110us/step - loss: 0.1731 - accuracy: 0.9126 - val_loss: 0.2104 - val_accuracy: 0.9151\n",
            "Epoch 18/20\n",
            "534896/534896 [==============================] - 57s 106us/step - loss: 0.1723 - accuracy: 0.9131 - val_loss: 0.2112 - val_accuracy: 0.9163\n",
            "Epoch 19/20\n",
            "534896/534896 [==============================] - 57s 106us/step - loss: 0.1728 - accuracy: 0.9129 - val_loss: 0.2141 - val_accuracy: 0.9151\n",
            "Epoch 20/20\n",
            "534896/534896 [==============================] - 57s 106us/step - loss: 0.1734 - accuracy: 0.9127 - val_loss: 0.2116 - val_accuracy: 0.9161\n"
          ],
          "name": "stdout"
        }
      ]
    },
    {
      "cell_type": "code",
      "metadata": {
        "id": "E82MDWzAtAZ4",
        "colab_type": "code",
        "colab": {
          "base_uri": "https://localhost:8080/",
          "height": 68
        },
        "outputId": "c7519fa7-9284-4360-e8ab-f5da9e1b3f3c"
      },
      "source": [
        "# Evaluate model on test data\n",
        "score = model9.evaluate(Xtest , Ytest)\n",
        "\n",
        "print('Test loss: %.4f' % score[0])\n",
        "print('Test accuracy: %.4f' % score[1])"
      ],
      "execution_count": 60,
      "outputs": [
        {
          "output_type": "stream",
          "text": [
            "114620/114620 [==============================] - 6s 54us/step\n",
            "Test loss: 0.2072\n",
            "Test accuracy: 0.9178\n"
          ],
          "name": "stdout"
        }
      ]
    },
    {
      "cell_type": "code",
      "metadata": {
        "id": "FMea7yVetAZ8",
        "colab_type": "code",
        "colab": {
          "base_uri": "https://localhost:8080/",
          "height": 541
        },
        "outputId": "793515a4-0cf0-468a-dec2-965352bf1945"
      },
      "source": [
        "plot_results(history9)"
      ],
      "execution_count": 61,
      "outputs": [
        {
          "output_type": "display_data",
          "data": {
            "image/png": "[encoded data removed]",
            "text/plain": [
              "<Figure size 720x288 with 1 Axes>"
            ]
          },
          "metadata": {
            "tags": [],
            "needs_background": "light"
          }
        },
        {
          "output_type": "display_data",
          "data": {
            "image/png": "[encoded data removed]",
            "text/plain": [
              "<Figure size 720x288 with 1 Axes>"
            ]
          },
          "metadata": {
            "tags": [],
            "needs_background": "light"
          }
        }
      ]
    },
    {
      "cell_type": "markdown",
      "metadata": {
        "id": "9dIsYMY0tAaD",
        "colab_type": "text"
      },
      "source": [
        "# Part 20: Improving performance\n",
        "\n",
        "Spend some time (30 - 90 minutes) playing with the network architecture (number of layers, number of nodes per layer, activation function) and other hyper parameters (optimizer, learning rate, batch size, number of epochs, degree of regularization). For example, try a much deeper network. How much does the training time increase for a network with 10 layers?\n",
        "\n",
        "Question 21: How high classification accuracy can you achieve for the test data? What is your best configuration?"
      ]
    },
    {
      "cell_type": "code",
      "metadata": {
        "scrolled": true,
        "id": "jwxN7dLPtAaE",
        "colab_type": "code",
        "colab": {
          "base_uri": "https://localhost:8080/",
          "height": 374
        },
        "outputId": "b50e58ee-f6a1-46cf-a4d8-3e70163c0635"
      },
      "source": [
        "# Find your best configuration for the DNN\n",
        "batch_size = 10000\n",
        "epochs = 10\n",
        "input_shape = Xtrain.shape\n",
        "\n",
        "# Build and train model\n",
        "model10 = build_DNN(input_shape=input_shape,n_layers=2,n_nodes=20,act_fun='sigmoid',optimizer='sgd',learning_rate=0.1,use_bn=True)\n",
        "\n",
        "history10 = model10.fit(Xtrain,Ytrain,epochs=epochs,validation_data=(Xval,Yval),class_weight=weights)"
      ],
      "execution_count": 69,
      "outputs": [
        {
          "output_type": "stream",
          "text": [
            "Train on 534896 samples, validate on 114620 samples\n",
            "Epoch 1/10\n",
            "534896/534896 [==============================] - 52s 97us/step - loss: 0.1782 - accuracy: 0.9099 - val_loss: 0.2258 - val_accuracy: 0.9162\n",
            "Epoch 2/10\n",
            "534896/534896 [==============================] - 52s 97us/step - loss: 0.1611 - accuracy: 0.9174 - val_loss: 0.1978 - val_accuracy: 0.9175\n",
            "Epoch 3/10\n",
            "534896/534896 [==============================] - 52s 97us/step - loss: 0.1567 - accuracy: 0.9179 - val_loss: 0.2024 - val_accuracy: 0.9176\n",
            "Epoch 4/10\n",
            "534896/534896 [==============================] - 53s 100us/step - loss: 0.1517 - accuracy: 0.9192 - val_loss: 0.1901 - val_accuracy: 0.9195\n",
            "Epoch 5/10\n",
            "534896/534896 [==============================] - 53s 98us/step - loss: 0.1473 - accuracy: 0.9219 - val_loss: 0.1634 - val_accuracy: 0.9278\n",
            "Epoch 6/10\n",
            "534896/534896 [==============================] - 52s 97us/step - loss: 0.1432 - accuracy: 0.9247 - val_loss: 0.1485 - val_accuracy: 0.9296\n",
            "Epoch 7/10\n",
            "534896/534896 [==============================] - 52s 97us/step - loss: 0.1394 - accuracy: 0.9274 - val_loss: 0.1927 - val_accuracy: 0.9260\n",
            "Epoch 8/10\n",
            "534896/534896 [==============================] - 52s 97us/step - loss: 0.1372 - accuracy: 0.9290 - val_loss: 0.1695 - val_accuracy: 0.9303\n",
            "Epoch 9/10\n",
            "534896/534896 [==============================] - 52s 97us/step - loss: 0.1348 - accuracy: 0.9303 - val_loss: 0.1889 - val_accuracy: 0.9264\n",
            "Epoch 10/10\n",
            "534896/534896 [==============================] - 54s 101us/step - loss: 0.1343 - accuracy: 0.9309 - val_loss: 0.1726 - val_accuracy: 0.9299\n"
          ],
          "name": "stdout"
        }
      ]
    },
    {
      "cell_type": "code",
      "metadata": {
        "id": "CAzY1QvltAaN",
        "colab_type": "code",
        "colab": {
          "base_uri": "https://localhost:8080/",
          "height": 592
        },
        "outputId": "854ad44e-5bde-4ccd-d43a-3f45ad9270a1"
      },
      "source": [
        "# Evaluate DNN on test data\n",
        "score = model10.evaluate(Xtest , Ytest)\n",
        "\n",
        "print('Test loss: %.4f' % score[0])\n",
        "print('Test accuracy: %.4f' % score[1])\n",
        "\n",
        "plot_results(history10)"
      ],
      "execution_count": 70,
      "outputs": [
        {
          "output_type": "stream",
          "text": [
            "114620/114620 [==============================] - 5s 47us/step\n",
            "Test loss: 0.1683\n",
            "Test accuracy: 0.9316\n"
          ],
          "name": "stdout"
        },
        {
          "output_type": "display_data",
          "data": {
            "image/png": "[encoded data removed]",
            "text/plain": [
              "<Figure size 720x288 with 1 Axes>"
            ]
          },
          "metadata": {
            "tags": [],
            "needs_background": "light"
          }
        },
        {
          "output_type": "display_data",
          "data": {
            "image/png": "[encoded data removed]",
            "text/plain": [
              "<Figure size 720x288 with 1 Axes>"
            ]
          },
          "metadata": {
            "tags": [],
            "needs_background": "light"
          }
        }
      ]
    },
    {
      "cell_type": "markdown",
      "metadata": {
        "id": "aiPpL7mDtAaT",
        "colab_type": "text"
      },
      "source": [
        "# Part 21: Dropout uncertainty\n",
        "\n",
        "Dropout can also be used during testing, to obtain an estimate of the model uncertainty. Since dropout will randomly remove connections, the network will produce different results every time the same (test) data is put into the network. This technique is called Monte Carlo dropout. For more information, see this paper http://proceedings.mlr.press/v48/gal16.pdf\n",
        "\n",
        "To achieve this, we need to redefine the Keras Dropout call by running the cell below, and use 'myDropout' in each call to Dropout, in the cell that defines the DNN.\n",
        "\n",
        "Run the same test data through the trained network 100 times, with dropout turned on. \n",
        "\n",
        "Question 22: What is the mean and the standard deviation of the test accuracy?"
      ]
    },
    {
      "cell_type": "code",
      "metadata": {
        "id": "CM3z9RCvtAaT",
        "colab_type": "code",
        "colab": {}
      },
      "source": [
        "import keras\n",
        "\n",
        "class myDropout(keras.layers.Dropout):\n",
        "    \"\"\"Applies Dropout to the input.\n",
        "    Dropout consists in randomly setting\n",
        "    a fraction `rate` of input units to 0 at each update during training time,\n",
        "    which helps prevent overfitting.\n",
        "    # Arguments\n",
        "        rate: float between 0 and 1. Fraction of the input units to drop.\n",
        "        noise_shape: 1D integer tensor representing the shape of the\n",
        "            binary dropout mask that will be multiplied with the input.\n",
        "            For instance, if your inputs have shape\n",
        "            `(batch_size, timesteps, features)` and\n",
        "            you want the dropout mask to be the same for all timesteps,\n",
        "            you can use `noise_shape=(batch_size, 1, features)`.\n",
        "        seed: A Python integer to use as random seed.\n",
        "    # References\n",
        "        - [Dropout: A Simple Way to Prevent Neural Networks from Overfitting](\n",
        "           http://www.jmlr.org/papers/volume15/srivastava14a/srivastava14a.pdf)\n",
        "    \"\"\"\n",
        "    def __init__(self, rate, training=True, noise_shape=None, seed=None, **kwargs):\n",
        "        super(myDropout, self).__init__(rate, noise_shape=None, seed=None,**kwargs)\n",
        "        self.training = training\n",
        "\n",
        "        \n",
        "    def call(self, inputs, training=None):\n",
        "        if 0. < self.rate < 1.:\n",
        "            noise_shape = self._get_noise_shape(inputs)\n",
        "\n",
        "            def dropped_inputs():\n",
        "                return K.dropout(inputs, self.rate, noise_shape,\n",
        "                                 seed=self.seed)\n",
        "            if not training: \n",
        "                return K.in_train_phase(dropped_inputs, inputs, training=self.training)\n",
        "            return K.in_train_phase(dropped_inputs, inputs, training=training)\n",
        "        return inputs\n",
        "\n",
        "\n",
        "        "
      ],
      "execution_count": 0,
      "outputs": []
    },
    {
      "cell_type": "markdown",
      "metadata": {
        "id": "4hIxhRMMtAaX",
        "colab_type": "text"
      },
      "source": [
        "### Your best config, custom dropout"
      ]
    },
    {
      "cell_type": "code",
      "metadata": {
        "scrolled": true,
        "id": "oN9gu7mTtAaY",
        "colab_type": "code",
        "colab": {
          "base_uri": "https://localhost:8080/",
          "height": 374
        },
        "outputId": "34a473b8-f48b-4461-f555-cedefe420700"
      },
      "source": [
        "# Your best training parameters\n",
        "batch_size = 10000\n",
        "epochs = 10\n",
        "input_shape = Xtrain.shape\n",
        "\n",
        "# Build and train model\n",
        "model11 = build_DNN(input_shape=input_shape,n_layers=2,n_nodes=20,act_fun='sigmoid',optimizer='sgd',learning_rate=0.1,use_bn=True, use_custom_dropout = True , dRate = 0.5)\n",
        "\n",
        "history11 = model11.fit(Xtrain,Ytrain,epochs=epochs,validation_data=(Xval,Yval),class_weight=weights)"
      ],
      "execution_count": 74,
      "outputs": [
        {
          "output_type": "stream",
          "text": [
            "Train on 534896 samples, validate on 114620 samples\n",
            "Epoch 1/10\n",
            "534896/534896 [==============================] - 56s 104us/step - loss: 0.2124 - accuracy: 0.8924 - val_loss: 0.2296 - val_accuracy: 0.9059\n",
            "Epoch 2/10\n",
            "534896/534896 [==============================] - 57s 106us/step - loss: 0.1815 - accuracy: 0.9093 - val_loss: 0.2253 - val_accuracy: 0.9103\n",
            "Epoch 3/10\n",
            "534896/534896 [==============================] - 55s 102us/step - loss: 0.1777 - accuracy: 0.9110 - val_loss: 0.2286 - val_accuracy: 0.9100\n",
            "Epoch 4/10\n",
            "534896/534896 [==============================] - 54s 102us/step - loss: 0.1773 - accuracy: 0.9113 - val_loss: 0.2266 - val_accuracy: 0.9103\n",
            "Epoch 5/10\n",
            "534896/534896 [==============================] - 54s 101us/step - loss: 0.1764 - accuracy: 0.9117 - val_loss: 0.2266 - val_accuracy: 0.9117\n",
            "Epoch 6/10\n",
            "534896/534896 [==============================] - 54s 101us/step - loss: 0.1749 - accuracy: 0.9125 - val_loss: 0.2255 - val_accuracy: 0.9120\n",
            "Epoch 7/10\n",
            "534896/534896 [==============================] - 56s 105us/step - loss: 0.1743 - accuracy: 0.9126 - val_loss: 0.2220 - val_accuracy: 0.9122\n",
            "Epoch 8/10\n",
            "534896/534896 [==============================] - 55s 103us/step - loss: 0.1746 - accuracy: 0.9126 - val_loss: 0.2227 - val_accuracy: 0.9126\n",
            "Epoch 9/10\n",
            "534896/534896 [==============================] - 55s 102us/step - loss: 0.1740 - accuracy: 0.9129 - val_loss: 0.2271 - val_accuracy: 0.9124\n",
            "Epoch 10/10\n",
            "534896/534896 [==============================] - 54s 101us/step - loss: 0.1746 - accuracy: 0.9123 - val_loss: 0.2246 - val_accuracy: 0.9122\n"
          ],
          "name": "stdout"
        }
      ]
    },
    {
      "cell_type": "code",
      "metadata": {
        "id": "KAyY29zItAac",
        "colab_type": "code",
        "colab": {
          "base_uri": "https://localhost:8080/",
          "height": 592
        },
        "outputId": "a6f7d126-50b0-4620-deed-15138c9ef92a"
      },
      "source": [
        "# Run this cell a few times to evalute the model on test data, \n",
        "# if you get slightly different test accuracy every time, Dropout during testing is working\n",
        "\n",
        "# Evaluate model on test data\n",
        "\n",
        "score = model11.evaluate(Xtest , Ytest)\n",
        "\n",
        "print('Test loss: %.4f' % score[0])\n",
        "print('Test accuracy: %.4f' % score[1])\n",
        "\n",
        "plot_results(history11)"
      ],
      "execution_count": 75,
      "outputs": [
        {
          "output_type": "stream",
          "text": [
            "114620/114620 [==============================] - 6s 51us/step\n",
            "Test loss: 0.2199\n",
            "Test accuracy: 0.9142\n"
          ],
          "name": "stdout"
        },
        {
          "output_type": "display_data",
          "data": {
            "image/png": "[encoded data removed]",
            "text/plain": [
              "<Figure size 720x288 with 1 Axes>"
            ]
          },
          "metadata": {
            "tags": [],
            "needs_background": "light"
          }
        },
        {
          "output_type": "display_data",
          "data": {
            "image/png": "[encoded data removed]",
            "text/plain": [
              "<Figure size 720x288 with 1 Axes>"
            ]
          },
          "metadata": {
            "tags": [],
            "needs_background": "light"
          }
        }
      ]
    },
    {
      "cell_type": "code",
      "metadata": {
        "id": "ZYPTCS9ttAaf",
        "colab_type": "code",
        "colab": {}
      },
      "source": [
        "# Run the testing 100 times, and save the accuracies in an array\n",
        "\n",
        "    \n",
        "# Calculate and print mean and std of accuracies\n",
        "\n"
      ],
      "execution_count": 0,
      "outputs": []
    },
    {
      "cell_type": "markdown",
      "metadata": {
        "id": "ietNFSzPtAak",
        "colab_type": "text"
      },
      "source": [
        "# Part 22: Cross validation uncertainty\n",
        "\n",
        "Cross validation (CV) is often used to evaluate a model, by training and testing using different subsets of the data it is possible to get the uncertainty as the standard deviation over folds. We here use a help function from scikit-learn to setup the CV, see https://scikit-learn.org/stable/modules/generated/sklearn.model_selection.StratifiedKFold.html . Use 10 folds with shuffling, random state 1234. \n",
        "\n",
        "Note: We here assume that you have found the best hyper parameters, so here the data are only split into training and testing, no validation.\n",
        "\n",
        "---\n",
        "\n",
        "Question 23: What is the mean and the standard deviation of the test accuracy?\n",
        "\n",
        "Question 24: What is the main advantage of dropout compared to CV for estimating test uncertainty?"
      ]
    },
    {
      "cell_type": "code",
      "metadata": {
        "id": "NkbOdES5tAak",
        "colab_type": "code",
        "colab": {
          "base_uri": "https://localhost:8080/",
          "height": 250
        },
        "outputId": "5a921c5e-6074-438b-bbfd-11d97bccdbfd"
      },
      "source": [
        "from sklearn.model_selection import StratifiedKFold\n",
        "\n",
        "# Define 10-fold cross validation\n",
        "\n",
        "# Loop over cross validation folds\n",
        "    \n",
        "    # Calculate class weights for current split\n",
        "    \n",
        "    # Rebuild the DNN model, to not continue training on the previously trained model\n",
        "    \n",
        "    # Fit the model with training set and class weights for this fold\n",
        "    \n",
        "    # Evaluate the model using the test set for this fold\n",
        "    \n",
        "    # Save the test accuracy in an array\n",
        "\n",
        "# Calculate and print mean and std of accuracies\n",
        "\n",
        "skf = StratifiedKFold(n_splits = 10 , shuffle = False, random_state = 1234)\n",
        "\n",
        "\n",
        "\n",
        "accAr = []\n",
        "i = 1\n",
        "for train_idx , test_idx in skf.split(X,Y):\n",
        "  print(f\"Number of fold is {i}\")\n",
        "  train_X = X[train_idx , : ]\n",
        "  train_Y = Y[train_idx]\n",
        "\n",
        "  test_X = X[test_idx, : ]\n",
        "  test_Y = Y[test_idx]\n",
        "    classes = np.unique(train_Y)\n",
        "  weights = {classes[i]:class_weight.compute_class_weight('balanced',classes,train_Y)[i] for i in range(0,len(classes))}\n",
        "\n",
        "  ipShape = train_X.shape\n",
        "\n",
        "  batch_size = 100\n",
        "  epochs = 1\n",
        "  \n",
        "  modelCV = build_DNN(input_shape=ipShape,n_layers=2,n_nodes=20,act_fun='sigmoid',optimizer='sgd',learning_rate=0.1,use_bn=True)\n",
        "\n",
        "  historyCV = modelCV.fit(train_X,train_Y,epochs=epochs,class_weight=weights, verbose = 0) \n",
        "\n",
        "  score = modelCV.evaluate(Xtest,Ytest, verbose = 0)\n",
        "\n",
        "  accAr.append(score[2])\n",
        "  i = i + 1\n",
        "\n",
        "\n"
      ],
      "execution_count": 85,
      "outputs": [
        {
          "output_type": "stream",
          "text": [
            "Number of fold is 1\n"
          ],
          "name": "stdout"
        },
        {
          "output_type": "error",
          "ename": "IndexError",
          "evalue": "ignored",
          "traceback": [
            "\u001b[0;31m---------------------------------------------------------------------------\u001b[0m",
            "\u001b[0;31mIndexError\u001b[0m                                Traceback (most recent call last)",
            "\u001b[0;32m<ipython-input-85-395a430bec2d>\u001b[0m in \u001b[0;36m<module>\u001b[0;34m()\u001b[0m\n\u001b[1;32m     48\u001b[0m   \u001b[0mscore\u001b[0m \u001b[0;34m=\u001b[0m \u001b[0mmodelCV\u001b[0m\u001b[0;34m.\u001b[0m\u001b[0mevaluate\u001b[0m\u001b[0;34m(\u001b[0m\u001b[0mXtest\u001b[0m\u001b[0;34m,\u001b[0m\u001b[0mYtest\u001b[0m\u001b[0;34m,\u001b[0m \u001b[0mverbose\u001b[0m \u001b[0;34m=\u001b[0m \u001b[0;36m0\u001b[0m\u001b[0;34m)\u001b[0m\u001b[0;34m\u001b[0m\u001b[0;34m\u001b[0m\u001b[0m\n\u001b[1;32m     49\u001b[0m \u001b[0;34m\u001b[0m\u001b[0m\n\u001b[0;32m---> 50\u001b[0;31m   \u001b[0maccAr\u001b[0m\u001b[0;34m.\u001b[0m\u001b[0mappend\u001b[0m\u001b[0;34m(\u001b[0m\u001b[0mscore\u001b[0m\u001b[0;34m[\u001b[0m\u001b[0;36m2\u001b[0m\u001b[0;34m]\u001b[0m\u001b[0;34m)\u001b[0m\u001b[0;34m\u001b[0m\u001b[0;34m\u001b[0m\u001b[0m\n\u001b[0m\u001b[1;32m     51\u001b[0m   \u001b[0mi\u001b[0m \u001b[0;34m=\u001b[0m \u001b[0mi\u001b[0m \u001b[0;34m+\u001b[0m \u001b[0;36m1\u001b[0m\u001b[0;34m\u001b[0m\u001b[0;34m\u001b[0m\u001b[0m\n\u001b[1;32m     52\u001b[0m \u001b[0;34m\u001b[0m\u001b[0m\n",
            "\u001b[0;31mIndexError\u001b[0m: list index out of range"
          ]
        }
      ]
    },
    {
      "cell_type": "code",
      "metadata": {
        "id": "D4ffHjXcl_Wk",
        "colab_type": "code",
        "colab": {}
      },
      "source": [
        ""
      ],
      "execution_count": 0,
      "outputs": []
    },
    {
      "cell_type": "code",
      "metadata": {
        "id": "dZ5Zp_udfITz",
        "colab_type": "code",
        "colab": {}
      },
      "source": [
        "import statistics as stat\n",
        "meanVal = stat.mean(accAr)\n",
        "std = variance(accAr)\n"
      ],
      "execution_count": 0,
      "outputs": []
    },
    {
      "cell_type": "markdown",
      "metadata": {
        "id": "tHGu0V8jtAan",
        "colab_type": "text"
      },
      "source": [
        "# Part 23: DNN regression\n",
        "\n",
        "A similar DNN can be used for regression, instead of classification.\n",
        "\n",
        "Question 25: How would you change the DNN in order to use it for regression instead?\n",
        "\n",
        "Since we are interested in regression, we need to change activation functioin of output layer to linear activation function as current activation function will change it into 0 and 1 while with that, any value outside that range would not be achieved.  "
      ]
    },
    {
      "cell_type": "markdown",
      "metadata": {
        "id": "MSpnNCjEtAap",
        "colab_type": "text"
      },
      "source": [
        "## Report\n",
        "\n",
        "Send in this jupyter notebook, with answers to all questions."
      ]
    }
  ]
}